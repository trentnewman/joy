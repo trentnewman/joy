{
 "cells": [
  {
   "cell_type": "code",
   "execution_count": 1,
   "id": "6dbf6a45",
   "metadata": {},
   "outputs": [],
   "source": [
    "#https://geektechstuff.com/2020/06/01/python-and-bluetooth-part-1-scanning-for-devices-and-services-python/\n",
    "import bluetooth\n",
    "import subprocess as sp"
   ]
  },
  {
   "cell_type": "code",
   "execution_count": 2,
   "id": "481fac8f",
   "metadata": {},
   "outputs": [],
   "source": [
    "# turn bluetooth on"
   ]
  },
  {
   "cell_type": "code",
   "execution_count": 3,
   "id": "cc777c00",
   "metadata": {},
   "outputs": [],
   "source": [
    "# Scan\n",
    "devices = bluetooth.discover_devices(\n",
    "    lookup_names = True, lookup_class = True)"
   ]
  },
  {
   "cell_type": "code",
   "execution_count": 4,
   "id": "54772129",
   "metadata": {},
   "outputs": [
    {
     "name": "stdout",
     "output_type": "stream",
     "text": [
      "1 devices found\n"
     ]
    }
   ],
   "source": [
    "number_of_devices = len(devices)\n",
    "print(str(len(devices))+\" devices found\")"
   ]
  },
  {
   "cell_type": "code",
   "execution_count": 5,
   "id": "f111a269",
   "metadata": {},
   "outputs": [
    {
     "name": "stdout",
     "output_type": "stream",
     "text": [
      " \n",
      "Device Name: Joy-8B6C\n",
      "Device MAC Address: E8:EB:1B:70:8B:6C\n",
      "Device Class: 7936\n"
     ]
    }
   ],
   "source": [
    "for addr, name, device_class in devices:\n",
    "    print(\" \")\n",
    "    print(\"Device Name: %s\" % (name))\n",
    "    print(\"Device MAC Address: %s\" % (addr))\n",
    "    print(\"Device Class: %s\" % (device_class))"
   ]
  },
  {
   "cell_type": "code",
   "execution_count": 6,
   "id": "cb20174a",
   "metadata": {},
   "outputs": [
    {
     "data": {
      "text/plain": [
       "'E8:EB:1B:70:8B:6C'"
      ]
     },
     "execution_count": 6,
     "metadata": {},
     "output_type": "execute_result"
    }
   ],
   "source": [
    "addr #'E8:EB:1B:70:8B:6C'\n",
    "bd_addr = 'E8:EB:1B:70:8B:6C'"
   ]
  },
  {
   "cell_type": "code",
   "execution_count": 8,
   "id": "89247c8f",
   "metadata": {},
   "outputs": [],
   "source": [
    "# https://null-byte.wonderhowto.com/how-to/bt-recon-snoop-bluetooth-devices-using-kali-linux-0165049/"
   ]
  },
  {
   "cell_type": "code",
   "execution_count": 11,
   "id": "9cc82fcc",
   "metadata": {},
   "outputs": [
    {
     "data": {
      "text/plain": [
       "['Browsing E8:EB:1B:70:8B:6C ...',\n",
       " 'Service RecHandle: 0x10001',\n",
       " 'Service Class ID List:',\n",
       " '  \"PnP Information\" (0x1200)',\n",
       " 'Protocol Descriptor List:',\n",
       " '  \"L2CAP\" (0x0100)',\n",
       " '    PSM: 1',\n",
       " '  \"SDP\" (0x0001)',\n",
       " 'Language Base Attr List:',\n",
       " '  code_ISO639: 0x656e',\n",
       " '  encoding:    0x6a',\n",
       " '  base_offset: 0x100',\n",
       " 'Profile Descriptor List:',\n",
       " '  \"PnP Information\" (0x1200)',\n",
       " '    Version: 0x0100',\n",
       " '',\n",
       " 'Failed to connect to SDP server on E8:EB:1B:70:8B:6C: Connection refused',\n",
       " 'Service Name: SerialPort',\n",
       " 'Service RecHandle: 0x10007',\n",
       " 'Service Class ID List:',\n",
       " '  \"Serial Port\" (0x1101)',\n",
       " 'Protocol Descriptor List:',\n",
       " '  \"L2CAP\" (0x0100)',\n",
       " '  \"RFCOMM\" (0x0003)',\n",
       " '    Channel: 6',\n",
       " 'Language Base Attr List:',\n",
       " '  code_ISO639: 0x656e',\n",
       " '  encoding:    0x6a',\n",
       " '  base_offset: 0x100',\n",
       " 'Profile Descriptor List:',\n",
       " '  \"Serial Port\" (0x1101)',\n",
       " '    Version: 0x0100',\n",
       " '',\n",
       " 'Service Name: Wireless iAP',\n",
       " 'Service RecHandle: 0x1000f',\n",
       " 'Service Class ID List:',\n",
       " '  UUID 128: 00000000-deca-fade-deca-deafdecacaff',\n",
       " 'Protocol Descriptor List:',\n",
       " '  \"L2CAP\" (0x0100)',\n",
       " '  \"RFCOMM\" (0x0003)',\n",
       " '    Channel: 3',\n",
       " 'Language Base Attr List:',\n",
       " '  code_ISO639: 0x656e',\n",
       " '  encoding:    0x6a',\n",
       " '  base_offset: 0x100',\n",
       " '']"
      ]
     },
     "execution_count": 11,
     "metadata": {},
     "output_type": "execute_result"
    }
   ],
   "source": [
    "# sdptool\n",
    "stdoutdata1 = sp.getoutput(\"sdptool browse \"+bd_addr)\n",
    "stdoutdata1 = stdoutdata1.split('\\n')\n",
    "stdoutdata1"
   ]
  },
  {
   "cell_type": "code",
   "execution_count": 10,
   "id": "310122c0",
   "metadata": {},
   "outputs": [
    {
     "data": {
      "text/plain": [
       "\"Can't create socket: Operation not permitted\""
      ]
     },
     "execution_count": 10,
     "metadata": {},
     "output_type": "execute_result"
    }
   ],
   "source": [
    "sp.getoutput(\"l2ping \"+bd_addr)"
   ]
  },
  {
   "cell_type": "code",
   "execution_count": 7,
   "id": "86613fe4",
   "metadata": {},
   "outputs": [],
   "source": [
    "port = 1\n",
    "sock=bluetooth.BluetoothSocket(bluetooth.RFCOMM)\n",
    "sock.connect((bd_addr, port))\n",
    "# sock.send(\"%\")\n",
    "# sock.send(\"(Header)\")\n",
    "# sock.send(\"M3\")\n",
    "# sock.send(\"(Header end.)\")\n",
    "# sock.send(\"G21 (all units in mm)\")\n",
    "# sock.send(\"G00 Y30\")\n",
    "# sock.send(\"G00 X30\")\n",
    "# sock.send(\"G00 Z30\")\n",
    "sock.close()"
   ]
  },
  {
   "cell_type": "code",
   "execution_count": 14,
   "id": "2f5cd255",
   "metadata": {},
   "outputs": [],
   "source": [
    "port = 3\n",
    "sock=bluetooth.BluetoothSocket(bluetooth.RFCOMM)\n",
    "sock.connect((bd_addr, port))\n",
    "sock.send(\"M3\")\n",
    "sock.send(\"G21 (all units in mm)\")\n",
    "sock.send(\"G00 Y30\")\n",
    "sock.send(\"G00 X30\")\n",
    "sock.send(\"G00 Z30\")\n",
    "sock.close()"
   ]
  },
  {
   "cell_type": "code",
   "execution_count": null,
   "id": "7000425b",
   "metadata": {},
   "outputs": [],
   "source": []
  }
 ],
 "metadata": {
  "kernelspec": {
   "display_name": "Python 3",
   "language": "python",
   "name": "python3"
  },
  "language_info": {
   "codemirror_mode": {
    "name": "ipython",
    "version": 3
   },
   "file_extension": ".py",
   "mimetype": "text/x-python",
   "name": "python",
   "nbconvert_exporter": "python",
   "pygments_lexer": "ipython3",
   "version": "3.8.10"
  }
 },
 "nbformat": 4,
 "nbformat_minor": 5
}
