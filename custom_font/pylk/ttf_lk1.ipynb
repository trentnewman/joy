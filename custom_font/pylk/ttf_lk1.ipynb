{
 "cells": [
  {
   "cell_type": "code",
   "execution_count": 1,
   "id": "1fb827a4",
   "metadata": {},
   "outputs": [],
   "source": [
    "import os\n",
    "import pandas as pd\n",
    "import numpy as np\n",
    "\n",
    "from fontTools.ttLib import TTFont\n",
    "from fontTools.pens.svgPathPen import SVGPathPen\n",
    "\n",
    "import svgpath2mpl\n",
    "from svgpath2mpl import parse_path\n",
    "\n",
    "import matplotlib as mpl\n",
    "import matplotlib.pyplot as plt\n",
    "from matplotlib.path import Path\n",
    "import matplotlib.patches as patches"
   ]
  },
  {
   "cell_type": "code",
   "execution_count": 2,
   "id": "800b4a9c",
   "metadata": {},
   "outputs": [],
   "source": [
    "fdir = '../ff/'\n",
    "#os.listdir(fdir)\n",
    "fnam = 'ff1.ttf'\n",
    "font = TTFont(fdir+fnam)"
   ]
  },
  {
   "cell_type": "code",
   "execution_count": 3,
   "id": "212df76a",
   "metadata": {},
   "outputs": [],
   "source": [
    "char = 'a'\n",
    "#\n",
    "cmap = font.getBestCmap()\n",
    "#cmap\n",
    "#\n",
    "glyphSet = font.getGlyphSet()\n",
    "svgpen = SVGPathPen(glyphSet)\n",
    "glyph = glyphSet[char]\n",
    "#\n",
    "glyph.draw(svgpen)\n",
    "cpath = svgpen.getCommands()\n",
    "cpath = cpath.replace('Z','') # replace 'Z' = 'closepath'\n",
    "#cpath\n",
    "#\n",
    "pcpath = svgpath2mpl.parse_path(cpath)\n",
    "vv = pcpath.vertices\n",
    "vdf = pd.DataFrame(vv)\n",
    "vxmi = vdf[0].min()\n",
    "vxma = vdf[0].max()\n",
    "vymi = vdf[1].min()\n",
    "vyma = vdf[1].max()"
   ]
  },
  {
   "cell_type": "code",
   "execution_count": 4,
   "id": "3fb19402",
   "metadata": {},
   "outputs": [
    {
     "data": {
      "image/png": "[encoded data removed]",
      "text/plain": [
       "<Figure size 432x288 with 1 Axes>"
      ]
     },
     "metadata": {
      "needs_background": "light"
     },
     "output_type": "display_data"
    }
   ],
   "source": [
    "#fig = plt.figure(figsize=(12, 5.25))\n",
    "fig = plt.figure()\n",
    "ax = fig.add_subplot(111)\n",
    "\n",
    "patch = mpl.patches.PathPatch(\n",
    "    pcpath, \n",
    "    facecolor='none', \n",
    "    edgecolor='black', \n",
    "    linewidth=1)\n",
    "patch.set_transform(ax.transData)\n",
    "ax.add_patch(patch)\n",
    "\n",
    "ax.set_aspect(1)\n",
    "ax.set_xlim([vxmi-100, vxma+100])\n",
    "ax.set_ylim([vymi-100, vyma+100])\n",
    "plt.show()"
   ]
  },
  {
   "cell_type": "code",
   "execution_count": null,
   "id": "c926afd2",
   "metadata": {},
   "outputs": [],
   "source": []
  },
  {
   "cell_type": "code",
   "execution_count": null,
   "id": "b2fa8aa9",
   "metadata": {},
   "outputs": [],
   "source": []
  }
 ],
 "metadata": {
  "kernelspec": {
   "display_name": "Python 3",
   "language": "python",
   "name": "python3"
  },
  "language_info": {
   "codemirror_mode": {
    "name": "ipython",
    "version": 3
   },
   "file_extension": ".py",
   "mimetype": "text/x-python",
   "name": "python",
   "nbconvert_exporter": "python",
   "pygments_lexer": "ipython3",
   "version": "3.8.10"
  }
 },
 "nbformat": 4,
 "nbformat_minor": 5
}
