{
 "cells": [
  {
   "cell_type": "code",
   "execution_count": 64,
   "id": "b57d0f07",
   "metadata": {},
   "outputs": [],
   "source": [
    "import os\n",
    "import pandas as pd\n",
    "import numpy as np\n",
    "\n",
    "from fontTools.ttLib import TTFont\n",
    "from fontTools.pens.svgPathPen import SVGPathPen\n",
    "\n",
    "import svgpath2mpl\n",
    "from svgpath2mpl import parse_path\n",
    "\n",
    "import matplotlib as mpl\n",
    "import matplotlib.pyplot as plt\n",
    "from matplotlib.path import Path\n",
    "import matplotlib.patches as patches"
   ]
  },
  {
   "cell_type": "code",
   "execution_count": 65,
   "id": "5b61a84d",
   "metadata": {},
   "outputs": [],
   "source": [
    "fdir = '../ff/'\n",
    "#os.listdir(fdir)\n",
    "fnam = 'ff1.ttf'\n",
    "font = TTFont(fdir+fnam)"
   ]
  },
  {
   "cell_type": "code",
   "execution_count": 66,
   "id": "e32963fd",
   "metadata": {},
   "outputs": [],
   "source": [
    "txt='abcd'"
   ]
  },
  {
   "cell_type": "code",
   "execution_count": 122,
   "id": "731392f4",
   "metadata": {},
   "outputs": [
    {
     "data": {
      "image/png": "[encoded data removed]",
      "text/plain": [
       "<Figure size 288x72 with 4 Axes>"
      ]
     },
     "metadata": {
      "needs_background": "light"
     },
     "output_type": "display_data"
    }
   ],
   "source": [
    "sca = 1\n",
    "gpx = 10\n",
    "gpy = 10\n",
    "fig, axs = plt.subplots(1, len(txt), figsize=((len(txt)*sca), sca))\n",
    "for t in range(len(txt)):\n",
    "    char = txt[t]\n",
    "    #char = 'a'\n",
    "    #\n",
    "    cmap = font.getBestCmap()\n",
    "    #cmap\n",
    "    #\n",
    "    glyphSet = font.getGlyphSet()\n",
    "    svgpen = SVGPathPen(glyphSet)\n",
    "    glyph = glyphSet[char]\n",
    "    #\n",
    "    glyph.draw(svgpen)\n",
    "    cpath = svgpen.getCommands()\n",
    "    cpath = cpath.replace('Z','') # replace 'Z' = 'closepath'\n",
    "    #cpath\n",
    "    #\n",
    "    pcpath = svgpath2mpl.parse_path(cpath)\n",
    "    vv = pcpath.vertices\n",
    "    vdf = pd.DataFrame(vv)\n",
    "    vxmi = vdf[0].min()\n",
    "    vxma = vdf[0].max()\n",
    "    vymi = vdf[1].min()\n",
    "    vyma = vdf[1].max()\n",
    "    #\n",
    "    #\n",
    "    patch = mpl.patches.PathPatch(\n",
    "        pcpath, \n",
    "        facecolor='none', \n",
    "        edgecolor='black', \n",
    "        linewidth=1)\n",
    "    patch.set_transform(axs[t].transData)\n",
    "    axs[t].add_patch(patch)\n",
    "    axs[t].set_aspect(1)\n",
    "    axs[t].axis(\"off\")\n",
    "    axs[t].set_xticklabels([])\n",
    "    axs[t].set_yticklabels([])\n",
    "    axs[t].set_xlim([vxmi-50, vxma+50])\n",
    "    axs[t].set_ylim([vymi-50, 1300])\n",
    "# set the spacing between subplots\n",
    "fig.subplots_adjust(left=0, wspace=-0.8)\n",
    "plt.savefig(\"ttf-text1.svg\")\n",
    "plt.show()"
   ]
  },
  {
   "cell_type": "code",
   "execution_count": null,
   "id": "d2bade3f",
   "metadata": {},
   "outputs": [],
   "source": []
  },
  {
   "cell_type": "code",
   "execution_count": null,
   "id": "034393dc",
   "metadata": {},
   "outputs": [],
   "source": []
  }
 ],
 "metadata": {
  "kernelspec": {
   "display_name": "Python 3",
   "language": "python",
   "name": "python3"
  },
  "language_info": {
   "codemirror_mode": {
    "name": "ipython",
    "version": 3
   },
   "file_extension": ".py",
   "mimetype": "text/x-python",
   "name": "python",
   "nbconvert_exporter": "python",
   "pygments_lexer": "ipython3",
   "version": "3.8.10"
  }
 },
 "nbformat": 4,
 "nbformat_minor": 5
}
