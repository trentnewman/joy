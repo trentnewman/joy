{
 "cells": [
  {
   "cell_type": "code",
   "execution_count": 1,
   "id": "b55e6933",
   "metadata": {},
   "outputs": [],
   "source": [
    "import os\n",
    "import pandas as pd\n",
    "import numpy as np\n",
    "\n",
    "from fontTools.ttLib import TTFont\n",
    "from fontTools.pens.svgPathPen import SVGPathPen\n",
    "\n",
    "import svgpath2mpl\n",
    "from svgpath2mpl import parse_path\n",
    "\n",
    "import matplotlib as mpl\n",
    "import matplotlib.pyplot as plt\n",
    "from matplotlib.path import Path\n",
    "import matplotlib.patches as patches"
   ]
  },
  {
   "cell_type": "code",
   "execution_count": 2,
   "id": "d15b04c1",
   "metadata": {},
   "outputs": [],
   "source": [
    "fdir = '../ff/'\n",
    "#os.listdir(fdir)\n",
    "fnam = 'ff1.ttf'\n",
    "font = TTFont(fdir+fnam)"
   ]
  },
  {
   "cell_type": "code",
   "execution_count": 3,
   "id": "757387ed",
   "metadata": {},
   "outputs": [],
   "source": [
    "cmap = font.getBestCmap()\n",
    "#cmap"
   ]
  },
  {
   "cell_type": "code",
   "execution_count": 4,
   "id": "20c4f5ae",
   "metadata": {},
   "outputs": [],
   "source": [
    "char = 'a'\n",
    "glyphSet = font.getGlyphSet()\n",
    "svgpen = SVGPathPen(glyphSet)\n",
    "glyph = glyphSet[char]\n",
    "glyph.draw(svgpen)\n",
    "cpath = svgpen.getCommands()"
   ]
  },
  {
   "cell_type": "code",
   "execution_count": 5,
   "id": "68e853cc",
   "metadata": {},
   "outputs": [
    {
     "data": {
      "text/plain": [
       "'M628 604V592Q628 544 610.0 442.0Q592 340 592 288Q592 268 595.5 244.5Q599 221 604.5 195.5Q610 170 612 160L624 136ZM636 496Q628 501 605.5 515.5Q583 530 571.0 536.5Q559 543 539.5 552.0Q520 561 501.5 563.5Q483 566 464 564Q372 553 320.0 481.5Q268 410 268 312Q268 291 298.0 257.5Q328 224 348 224Q369 224 410.0 222.0Q451 220 472 220Q505 220 523.5 231.0Q542 242 548.5 257.0Q555 272 567.0 294.5Q579 317 596 332L620 372Z'"
      ]
     },
     "execution_count": 5,
     "metadata": {},
     "output_type": "execute_result"
    }
   ],
   "source": [
    "cpath"
   ]
  },
  {
   "cell_type": "code",
   "execution_count": 6,
   "id": "64cd5c74",
   "metadata": {},
   "outputs": [],
   "source": [
    "pcpath = svgpath2mpl.parse_path(cpath)\n",
    "vv = pcpath.vertices\n",
    "vdf = pd.DataFrame(vv)\n",
    "vxmi = vdf[0].min()\n",
    "vxma = vdf[0].max()\n",
    "vymi = vdf[1].min()\n",
    "vyma = vdf[1].max()"
   ]
  },
  {
   "cell_type": "code",
   "execution_count": 7,
   "id": "3d85cf73",
   "metadata": {},
   "outputs": [],
   "source": [
    "#pcpath.codes[len(pcpath.codes)-1] = 1\n",
    "pcpath.codes[pcpath.codes == 79] = 1"
   ]
  },
  {
   "cell_type": "code",
   "execution_count": 8,
   "id": "85d4384f",
   "metadata": {},
   "outputs": [
    {
     "data": {
      "text/plain": [
       "array([1, 2, 3, 3, 3, 3, 3, 3, 3, 3, 3, 3, 2, 2, 1, 1, 3, 3, 3, 3, 3, 3,\n",
       "       3, 3, 3, 3, 3, 3, 3, 3, 3, 3, 3, 3, 3, 3, 3, 3, 3, 3, 3, 3, 3, 3,\n",
       "       3, 3, 2, 2, 1], dtype=uint8)"
      ]
     },
     "execution_count": 8,
     "metadata": {},
     "output_type": "execute_result"
    }
   ],
   "source": [
    "pcpath.codes"
   ]
  },
  {
   "cell_type": "code",
   "execution_count": 9,
   "id": "b79662b2",
   "metadata": {},
   "outputs": [],
   "source": [
    "# vdf = vdf.drop_duplicates(keep='first')\n",
    "# vdf"
   ]
  },
  {
   "cell_type": "code",
   "execution_count": 10,
   "id": "1e1cebae",
   "metadata": {},
   "outputs": [
    {
     "data": {
      "image/png": "[encoded data removed]",
      "text/plain": [
       "<Figure size 432x288 with 1 Axes>"
      ]
     },
     "metadata": {
      "needs_background": "light"
     },
     "output_type": "display_data"
    }
   ],
   "source": [
    "#fig = plt.figure(figsize=(12, 5.25))\n",
    "fig = plt.figure()\n",
    "ax = fig.add_subplot(111)\n",
    "\n",
    "patch = mpl.patches.PathPatch(\n",
    "    pcpath, \n",
    "    facecolor='none', \n",
    "    edgecolor='black', \n",
    "    linewidth=1)\n",
    "patch.set_transform(ax.transData)\n",
    "ax.add_patch(patch)\n",
    "\n",
    "ax.set_aspect(1)\n",
    "ax.set_xlim([vxmi-100, vxma+100])\n",
    "ax.set_ylim([vymi-100, vyma+100])\n",
    "plt.show()"
   ]
  },
  {
   "cell_type": "code",
   "execution_count": null,
   "id": "956488fd",
   "metadata": {},
   "outputs": [],
   "source": []
  },
  {
   "cell_type": "code",
   "execution_count": null,
   "id": "cf51644f",
   "metadata": {},
   "outputs": [],
   "source": []
  }
 ],
 "metadata": {
  "kernelspec": {
   "display_name": "Python 3",
   "language": "python",
   "name": "python3"
  },
  "language_info": {
   "codemirror_mode": {
    "name": "ipython",
    "version": 3
   },
   "file_extension": ".py",
   "mimetype": "text/x-python",
   "name": "python",
   "nbconvert_exporter": "python",
   "pygments_lexer": "ipython3",
   "version": "3.8.10"
  }
 },
 "nbformat": 4,
 "nbformat_minor": 5
}
