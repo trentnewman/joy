{
 "cells": [
  {
   "cell_type": "code",
   "execution_count": 1,
   "id": "c89237d1",
   "metadata": {},
   "outputs": [],
   "source": [
    "import os\n",
    "import pandas as pd\n",
    "import numpy as np\n",
    "\n",
    "from fontTools.ttLib import TTFont\n",
    "from fontTools.pens.svgPathPen import SVGPathPen\n",
    "\n",
    "import svgpath2mpl\n",
    "from svgpath2mpl import parse_path\n",
    "\n",
    "import matplotlib as mpl\n",
    "import matplotlib.pyplot as plt\n",
    "from matplotlib.path import Path\n",
    "import matplotlib.patches as patches"
   ]
  },
  {
   "cell_type": "code",
   "execution_count": 2,
   "id": "d20a001e",
   "metadata": {},
   "outputs": [],
   "source": [
    "fdir = '../ff/'\n",
    "#os.listdir(fdir)\n",
    "fnam = 'ff2.ttf'\n",
    "font = TTFont(fdir+fnam)"
   ]
  },
  {
   "cell_type": "code",
   "execution_count": 3,
   "id": "88ee0971",
   "metadata": {},
   "outputs": [],
   "source": [
    "# cmap = font.getBestCmap()\n",
    "# cmap"
   ]
  },
  {
   "cell_type": "code",
   "execution_count": 4,
   "id": "7fcff4d6",
   "metadata": {},
   "outputs": [],
   "source": [
    "cdict = {\n",
    "    #symbols\n",
    "    '!': 'exclam',\n",
    "    '\"': 'quotedbl',\n",
    "    '$': 'dollar',\n",
    "    '%': 'percent',\n",
    "    '': 'quotesingle',\n",
    "    '(': 'parenleft',\n",
    "    ')': 'parenright',\n",
    "    '*': 'asterisk',\n",
    "    ',': 'comma',\n",
    "    '-': 'hyphen',\n",
    "    '.': 'period',\n",
    "    ':': 'colon',\n",
    "    ';': 'semicolon',\n",
    "    '<': 'less',\n",
    "    '=': 'equal',\n",
    "    '>': 'greater',\n",
    "    '?': 'question',\n",
    "    '@': 'at',\n",
    "    #numbers\n",
    "    '0': 'zero',\n",
    "    '1': 'one',\n",
    "    '2': 'two',\n",
    "    '3': 'three',\n",
    "    '4': 'four',\n",
    "    '5': 'five',\n",
    "    '6': 'six',\n",
    "    '7': 'seven',\n",
    "    '8': 'eight',\n",
    "    '9': 'nine',\n",
    "    #breve\n",
    "    'ǎ':'abreve',\n",
    "    'ě':'ebreve',\n",
    "    'ǐ':'ibreve',\n",
    "    'ǒ':'obreve',\n",
    "    'ǔ':'ubreve',\n",
    "    #grave\n",
    "    'à':'agrave',\n",
    "    'è':'egrave',\n",
    "    'ì':'igrave',\n",
    "    'ò':'ograve',\n",
    "    'ù':'ugrave',\n",
    "    #acute\n",
    "    'á':'aacute',\n",
    "    'é':'eacute',\n",
    "    'í':'iacute',\n",
    "    'ó':'oacute',\n",
    "    'ú':'uacute',\n",
    "    #macron\n",
    "    'ā':'amacron',\n",
    "    'ē':'emacron',\n",
    "    'ī':'imacron',\n",
    "    'ō':'omacron',\n",
    "    'ū':'umacron',\n",
    "}\n",
    "#cdict['ū']\n",
    "clist = list(cdict.keys())"
   ]
  },
  {
   "cell_type": "code",
   "execution_count": 8,
   "id": "96040ba1",
   "metadata": {},
   "outputs": [],
   "source": [
    "txts = [\n",
    "    'Nǐ hǎo, nǐ zěnme yàng',\n",
    "    'Duìbùqǐ',\n",
    "    'Nǐ jiào shénme míngzì?',\n",
    "    'Nǐ cóng nǎlǐ lái?',\n",
    "    'Wǒ huì shuō yīdiǎn zhōngwén'\n",
    "]"
   ]
  },
  {
   "cell_type": "code",
   "execution_count": 10,
   "id": "03731c25",
   "metadata": {},
   "outputs": [
    {
     "data": {
      "text/plain": [
       "'Wǒ huì shuō yīdiǎn zhōngwén'"
      ]
     },
     "execution_count": 10,
     "metadata": {},
     "output_type": "execute_result"
    }
   ],
   "source": [
    "for x in range(len(txts)):\n",
    "    txt = txts[x]\n",
    "    # txt='Nǐ hǎo, nǐ zěnme yàng'\n",
    "txt"
   ]
  },
  {
   "cell_type": "code",
   "execution_count": 6,
   "id": "f0d88c33",
   "metadata": {},
   "outputs": [
    {
     "data": {
      "image/png": "[encoded data removed]",
      "text/plain": [
       "<Figure size 378x72 with 21 Axes>"
      ]
     },
     "metadata": {
      "needs_background": "light"
     },
     "output_type": "display_data"
    }
   ],
   "source": [
    "sca = 1\n",
    "gpx = 10\n",
    "gpy = 10\n",
    "fig, axs = plt.subplots(1, len(txt), figsize=((len(txt)*sca)/4, sca))\n",
    "for t in range(len(txt)):\n",
    "    char = txt[t]\n",
    "    if char in clist:\n",
    "        char = cdict[char]\n",
    "    #char = 'a'\n",
    "    #\n",
    "    if char != ' ': # Handle spaces\n",
    "        glyphSet = font.getGlyphSet()\n",
    "        svgpen = SVGPathPen(glyphSet)\n",
    "        glyph = glyphSet[char]\n",
    "        #\n",
    "        glyph.draw(svgpen)\n",
    "        cpath = svgpen.getCommands()\n",
    "        cpath = cpath.replace('Z','') # replace 'Z' = 'closepath'\n",
    "        #cpath\n",
    "        #\n",
    "        pcpath = svgpath2mpl.parse_path(cpath)\n",
    "        vv = pcpath.vertices\n",
    "        vdf = pd.DataFrame(vv)\n",
    "        vxmi = vdf[0].min()\n",
    "        vxma = vdf[0].max()\n",
    "        vymi = vdf[1].min()\n",
    "        vyma = vdf[1].max()\n",
    "        #\n",
    "        #\n",
    "        patch = mpl.patches.PathPatch(\n",
    "            pcpath, \n",
    "            facecolor='none', \n",
    "            edgecolor='black', \n",
    "            linewidth=1)\n",
    "        patch.set_transform(axs[t].transData)\n",
    "        axs[t].add_patch(patch)\n",
    "        axs[t].set_aspect(1)\n",
    "        axs[t].axis(\"off\")\n",
    "        axs[t].set_xticklabels([])\n",
    "        axs[t].set_yticklabels([])\n",
    "        axs[t].set_xlim([vxmi-50, vxma+50])\n",
    "        axs[t].set_ylim([-350, 1100])\n",
    "    else:\n",
    "        axs[t].set_aspect(1)\n",
    "        axs[t].axis(\"off\")\n",
    "        axs[t].set_xlim([0, 400])\n",
    "        axs[t].set_ylim([-350, 1100])\n",
    "#\n",
    "fig.subplots_adjust(left=0, wspace=0, hspace=0)\n",
    "plt.savefig(\"out/ttf-text1.svg\")\n",
    "plt.show()"
   ]
  },
  {
   "cell_type": "code",
   "execution_count": null,
   "id": "3ca43b83",
   "metadata": {},
   "outputs": [],
   "source": []
  }
 ],
 "metadata": {
  "kernelspec": {
   "display_name": "Python 3",
   "language": "python",
   "name": "python3"
  },
  "language_info": {
   "codemirror_mode": {
    "name": "ipython",
    "version": 3
   },
   "file_extension": ".py",
   "mimetype": "text/x-python",
   "name": "python",
   "nbconvert_exporter": "python",
   "pygments_lexer": "ipython3",
   "version": "3.8.10"
  }
 },
 "nbformat": 4,
 "nbformat_minor": 5
}
