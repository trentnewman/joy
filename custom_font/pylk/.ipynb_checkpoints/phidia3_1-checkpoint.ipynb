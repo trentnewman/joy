{
 "cells": [
  {
   "cell_type": "code",
   "execution_count": 12,
   "id": "57e5066b",
   "metadata": {},
   "outputs": [],
   "source": [
    "import os\n",
    "import pandas as pd\n",
    "import numpy as np\n",
    "\n",
    "import ast\n",
    "\n",
    "from fontTools.ttLib import TTFont\n",
    "from fontTools.pens.svgPathPen import SVGPathPen\n",
    "\n",
    "import svgpath2mpl\n",
    "from svgpath2mpl import parse_path\n",
    "\n",
    "import matplotlib as mpl\n",
    "import matplotlib.pyplot as plt\n",
    "from matplotlib.path import Path\n",
    "import matplotlib.patches as patches"
   ]
  },
  {
   "cell_type": "code",
   "execution_count": 19,
   "id": "d3abc03d",
   "metadata": {},
   "outputs": [],
   "source": [
    "fdir = '../ff/'\n",
    "#os.listdir(fdir)\n",
    "fnam = 'ff_c1.ttf'\n",
    "font = TTFont(fdir+fnam)\n",
    "# cmap = font.getBestCmap()\n",
    "# cmap"
   ]
  },
  {
   "cell_type": "code",
   "execution_count": 21,
   "id": "c1359f4c",
   "metadata": {},
   "outputs": [],
   "source": [
    "with open('cdict1.txt') as f:\n",
    "    data = f.read()\n",
    "cdict = ast.literal_eval(data)\n",
    "#cdict['ū']"
   ]
  },
  {
   "cell_type": "code",
   "execution_count": 68,
   "id": "d2c25d84",
   "metadata": {},
   "outputs": [],
   "source": [
    "tdir = '../../Generative/chatgpt/'\n",
    "tfil = '李雪遗传学研究_9.txt'\n",
    "#sorted(os.listdir(tdir))\n",
    "#\n",
    "my_tfil = open(tdir+tfil, \"r\")\n",
    "data = my_tfil.read()\n",
    "my_tfil.close()\n",
    "data = data.split(\"\\n\")\n",
    "data = [d for d in data if d != \"#\"]\n",
    "data = [d for d in data if d != \"# ~~~~~~~~~~\"]\n",
    "#data\n",
    "#\n",
    "pind = [i for i in range(len(data)) if \"# pg\" in data[i]]\n",
    "pages = [data[pind[ii]:pind[ii+1]] for ii in range(len(pind)-1)]\n",
    "#pages[4]"
   ]
  },
  {
   "cell_type": "code",
   "execution_count": 69,
   "id": "9597de02",
   "metadata": {},
   "outputs": [],
   "source": [
    "for p in range(len(pages)):\n",
    "    pp = p"
   ]
  },
  {
   "cell_type": "code",
   "execution_count": 107,
   "id": "915c3a0a",
   "metadata": {},
   "outputs": [
    {
     "data": {
      "text/plain": [
       "['二零二三年',\n",
       " 'Èr líng èrsān nián',\n",
       " '2023',\n",
       " '圈出版社',\n",
       " 'Quān chūbǎn shè',\n",
       " 'Circle Press']"
      ]
     },
     "execution_count": 107,
     "metadata": {},
     "output_type": "execute_result"
    }
   ],
   "source": [
    "pp = 2\n",
    "txts = pages[pp]\n",
    "pg = [t for t in txts if \"# pg\" in t]\n",
    "pg = pg[0].replace(\"# \",\"\")\n",
    "txts = [t for t in txts if \"# pg\" not in t]\n",
    "txts"
   ]
  },
  {
   "cell_type": "code",
   "execution_count": 89,
   "id": "9902ff59",
   "metadata": {},
   "outputs": [],
   "source": [
    "csca = {\n",
    "    \"engl\": 1,\n",
    "    \"punc\": 1,\n",
    "    \"piny\": 1,\n",
    "    \"hanz\": 1.75,\n",
    "}\n",
    "csca[\"engl\"]\n",
    "#\n",
    "tcs = []\n",
    "ics = []\n",
    "for x in range(len(txts)):\n",
    "    txt = txts[x]\n",
    "    tc = []\n",
    "    ic = []\n",
    "    for t in range(len(txt)):\n",
    "        char = txt[t]\n",
    "        charr = char.encode(\"unicode_escape\")\n",
    "        charr = str(charr)\n",
    "        ctyp = \"\"\n",
    "        if len(charr) <5:\n",
    "            if char in clist: # English\n",
    "                charrie = cdict[char]\n",
    "                ctyp = \"engl\"\n",
    "            else: # Common punctuation\n",
    "                charrie = char\n",
    "                ctyp = \"punc\"\n",
    "        else:\n",
    "            if char in clist: # Pinyin symbols\n",
    "                charrie = cdict[char]                    \n",
    "                ctyp = \"piny\"\n",
    "            else: # Chinese characters\n",
    "                charr = charr.replace(\"b'\\\\\\\\\",\"'\\\\\\\\\")\n",
    "                charr = charr.replace(\"'\",\"\")\n",
    "                charr = charr.replace(\"\\\\\\\\\",\"\")\n",
    "                charr = charr.upper()\n",
    "                charrie = charr.replace(\"U\",\"uni\")                  \n",
    "                ctyp = \"hanz\"\n",
    "        tc.append(csca[ctyp])\n",
    "        ic.append(charrie)\n",
    "    tcs.append(tc)\n",
    "    ics.append(ic)"
   ]
  },
  {
   "cell_type": "code",
   "execution_count": 90,
   "id": "5b0335ea",
   "metadata": {},
   "outputs": [
    {
     "data": {
      "text/plain": [
       "18"
      ]
     },
     "execution_count": 90,
     "metadata": {},
     "output_type": "execute_result"
    }
   ],
   "source": [
    "sum(tcs[1])"
   ]
  },
  {
   "cell_type": "code",
   "execution_count": 109,
   "id": "a6b9c960",
   "metadata": {},
   "outputs": [
    {
     "name": "stdout",
     "output_type": "stream",
     "text": [
      "0\n"
     ]
    },
    {
     "data": {
      "image/png": "[encoded data removed]",
      "text/plain": [
       "<Figure size 157.5x72 with 5 Axes>"
      ]
     },
     "metadata": {},
     "output_type": "display_data"
    },
    {
     "name": "stdout",
     "output_type": "stream",
     "text": [
      "1\n"
     ]
    },
    {
     "data": {
      "image/png": "[encoded data removed]",
      "text/plain": [
       "<Figure size 324x72 with 18 Axes>"
      ]
     },
     "metadata": {},
     "output_type": "display_data"
    },
    {
     "name": "stdout",
     "output_type": "stream",
     "text": [
      "2\n"
     ]
    },
    {
     "data": {
      "image/png": "[encoded data removed]",
      "text/plain": [
       "<Figure size 72x72 with 4 Axes>"
      ]
     },
     "metadata": {},
     "output_type": "display_data"
    },
    {
     "name": "stdout",
     "output_type": "stream",
     "text": [
      "3\n"
     ]
    },
    {
     "data": {
      "image/png": "[encoded data removed]",
      "text/plain": [
       "<Figure size 126x72 with 4 Axes>"
      ]
     },
     "metadata": {},
     "output_type": "display_data"
    },
    {
     "name": "stdout",
     "output_type": "stream",
     "text": [
      "4\n"
     ]
    },
    {
     "data": {
      "image/png": "[encoded data removed]",
      "text/plain": [
       "<Figure size 270x72 with 15 Axes>"
      ]
     },
     "metadata": {},
     "output_type": "display_data"
    },
    {
     "name": "stdout",
     "output_type": "stream",
     "text": [
      "5\n"
     ]
    },
    {
     "data": {
      "image/png": "[encoded data removed]",
      "text/plain": [
       "<Figure size 216x72 with 12 Axes>"
      ]
     },
     "metadata": {},
     "output_type": "display_data"
    }
   ],
   "source": [
    "for x in range(len(txts)):\n",
    "    if x >= 0: # use for subset\n",
    "        #x = 14\n",
    "        print(x)\n",
    "        txt = txts[x]\n",
    "        # txt='Nǐ hǎo, nǐ zěnme yàng'\n",
    "        # txt\n",
    "        sca = 1\n",
    "        gpx = 10\n",
    "        gpy = 10\n",
    "#         print(\"len:\")\n",
    "#         print(len(txt))\n",
    "#         print(sum(tcs[x]))\n",
    "        fig, axs = plt.subplots(1, \n",
    "                                len(txt), \n",
    "                                figsize=((sum(tcs[x])*sca)/4, sca))\n",
    "        for t in range(len(txt)):\n",
    "            char = txt[t]\n",
    "            charrie = ics[x][t]\n",
    "            #\n",
    "            if char != ' ': # Handle spaces\n",
    "                glyphSet = font.getGlyphSet()\n",
    "                svgpen = SVGPathPen(glyphSet)\n",
    "                glyph = glyphSet[charrie]\n",
    "                #\n",
    "                glyph.draw(svgpen)\n",
    "                cpath = svgpen.getCommands()\n",
    "                cpath = cpath.replace('Z','') # replace 'Z' = 'closepath'\n",
    "                #cpath\n",
    "                #\n",
    "                pcpath = svgpath2mpl.parse_path(cpath)\n",
    "                vv = pcpath.vertices\n",
    "                vdf = pd.DataFrame(vv)\n",
    "                vxmi = vdf[0].min()\n",
    "                vxma = vdf[0].max()\n",
    "                vymi = vdf[1].min()\n",
    "                vyma = vdf[1].max()\n",
    "                #\n",
    "                #\n",
    "                patch = mpl.patches.PathPatch(\n",
    "                    pcpath, \n",
    "                    facecolor='none', \n",
    "                    edgecolor='black', \n",
    "                    linewidth=1)\n",
    "                patch.set_transform(axs[t].transData)\n",
    "                axs[t].add_patch(patch)\n",
    "                axs[t].set_aspect(1)\n",
    "                axs[t].axis(\"off\")\n",
    "                axs[t].set_xticklabels([])\n",
    "                axs[t].set_yticklabels([])\n",
    "                axs[t].set_xlim([vxmi-50, vxma+50])\n",
    "                axs[t].set_ylim([-350, 1100])\n",
    "            else: # space character\n",
    "                axs[t].set_aspect(1)\n",
    "                axs[t].axis(\"off\")\n",
    "                axs[t].set_xlim([0, 400])\n",
    "                axs[t].set_ylim([-350, 1100])\n",
    "        #\n",
    "        fig.subplots_adjust(left=0, wspace=0, hspace=0)\n",
    "        fig.patch.set_facecolor('xkcd:mint green')\n",
    "        plt.savefig(\"out/phidia3/pg\"+str(pp)+\"_l\"+str(x)+\".svg\")\n",
    "        plt.show()"
   ]
  },
  {
   "cell_type": "code",
   "execution_count": 110,
   "id": "25d84e91",
   "metadata": {},
   "outputs": [],
   "source": [
    "import svg_stack as ss\n",
    "# consider also svg_utils"
   ]
  },
  {
   "cell_type": "code",
   "execution_count": 114,
   "id": "305a4005",
   "metadata": {},
   "outputs": [],
   "source": [
    "dir(ss)"
   ]
  },
  {
   "cell_type": "code",
   "execution_count": 118,
   "id": "92514a41",
   "metadata": {},
   "outputs": [],
   "source": [
    "# doc = ss.Document()\n",
    "# layout1 = ss.HBoxLayout()\n",
    "# layout1.addSVG('out/phidia3/pg2_l0.svg',alignment=ss.AlignTop|ss.AlignHCenter)\n",
    "# layout1.addSVG('out/phidia3/pg2_l1.svg',alignment=ss.AlignVCenter)\n",
    "# doc.setLayout(layout1)\n",
    "# doc.save('out/phidia3/qt_api_test.svg')"
   ]
  },
  {
   "cell_type": "code",
   "execution_count": 120,
   "id": "892aa1dc",
   "metadata": {},
   "outputs": [],
   "source": [
    "from svgutils.compose import *\n",
    "#https://svgutils.readthedocs.io/en/latest/tutorials/composing_multipanel_figures.html#grouping-elements-into-panels"
   ]
  },
  {
   "cell_type": "code",
   "execution_count": 160,
   "id": "29439f9b",
   "metadata": {},
   "outputs": [
    {
     "data": {
      "text/plain": [
       "6"
      ]
     },
     "execution_count": 160,
     "metadata": {},
     "output_type": "execute_result"
    }
   ],
   "source": [
    "#\n",
    "svgs = sorted(os.listdir('./out/phidia3/'))\n",
    "svgs = [s for s in svgs if \"pg2\" in s]\n",
    "len(svgs)"
   ]
  },
  {
   "cell_type": "code",
   "execution_count": 169,
   "id": "a6844af6",
   "metadata": {},
   "outputs": [],
   "source": [
    "s_p0 = 'Figure(\"1.05cm\", \"1.68cm\",'\n",
    "s_p1 = 'Panel(SVG(\"out/phidia3/'\n",
    "s_p2 = '\").scale(0.1)), '\n",
    "s_pn = ').tile(1,'+str(len(svgs))+').save(\"out/phidia3/test.svg\")'\n",
    "#\n",
    "s_pl = []\n",
    "s_pl.append(s_p0)\n",
    "for s in svgs:\n",
    "    s_pl.append(s_p1+s+s_p2)\n",
    "s_pl.append(s_pn)\n",
    "#\n",
    "sfun = ''.join(s_pl)\n",
    "eval(sfun)"
   ]
  },
  {
   "cell_type": "code",
   "execution_count": 163,
   "id": "9cdb1973",
   "metadata": {},
   "outputs": [
    {
     "data": {
      "text/plain": [
       "'Figure(\"10.5cm\", \"14.8cm\",Panel(SVG(\"out/phidia3/pg2_l0.svg\")), Panel(SVG(\"out/phidia3/pg2_l1.svg\")), Panel(SVG(\"out/phidia3/pg2_l2.svg\")), Panel(SVG(\"out/phidia3/pg2_l3.svg\")), Panel(SVG(\"out/phidia3/pg2_l4.svg\")), Panel(SVG(\"out/phidia3/pg2_l5.svg\")), ).tile(1,6).save(\"out/phidia3/test.svg\")'"
      ]
     },
     "execution_count": 163,
     "metadata": {},
     "output_type": "execute_result"
    }
   ],
   "source": [
    "sfun"
   ]
  },
  {
   "cell_type": "code",
   "execution_count": null,
   "id": "657d9403",
   "metadata": {},
   "outputs": [],
   "source": [
    "for f in svgs:\n",
    "Figure(\"16cm\", \"6.5cm\",\n",
    "       Panel(SVG(\"out/phidia3/pg2_l0.svg\")),\n",
    "       Panel(SVG(\"out/phidia3/pg2_l1.svg\")),\n",
    "       Panel(SVG(\"out/phidia3/pg2_l2.svg\")),\n",
    "       Panel(SVG(\"out/phidia3/pg2_l3.svg\")),\n",
    "       Panel(SVG(\"out/phidia3/pg2_l4.svg\"))\n",
    "      ).tile(1,4).save('out/phidia3/test.svg')"
   ]
  },
  {
   "cell_type": "code",
   "execution_count": 133,
   "id": "c69c2578",
   "metadata": {},
   "outputs": [],
   "source": [
    "Figure(\"16cm\", \"6.5cm\",\n",
    "       Panel(SVG(\"out/phidia3/pg2_l0.svg\")),\n",
    "       Panel(SVG(\"out/phidia3/pg2_l1.svg\")),\n",
    "       Panel(SVG(\"out/phidia3/pg2_l2.svg\")),\n",
    "       Panel(SVG(\"out/phidia3/pg2_l3.svg\")),\n",
    "       Panel(SVG(\"out/phidia3/pg2_l4.svg\"))\n",
    "      ).tile(1,4).save('out/phidia3/test.svg')"
   ]
  },
  {
   "cell_type": "code",
   "execution_count": 12,
   "id": "51e15a82",
   "metadata": {},
   "outputs": [],
   "source": [
    "# print(x)\n",
    "# print(txts[x])"
   ]
  },
  {
   "cell_type": "code",
   "execution_count": 13,
   "id": "896df6c3",
   "metadata": {},
   "outputs": [],
   "source": [
    "#txts[15]"
   ]
  },
  {
   "cell_type": "code",
   "execution_count": null,
   "id": "a5ca6f2d",
   "metadata": {},
   "outputs": [],
   "source": []
  }
 ],
 "metadata": {
  "kernelspec": {
   "display_name": "Python 3",
   "language": "python",
   "name": "python3"
  },
  "language_info": {
   "codemirror_mode": {
    "name": "ipython",
    "version": 3
   },
   "file_extension": ".py",
   "mimetype": "text/x-python",
   "name": "python",
   "nbconvert_exporter": "python",
   "pygments_lexer": "ipython3",
   "version": "3.8.10"
  }
 },
 "nbformat": 4,
 "nbformat_minor": 5
}
