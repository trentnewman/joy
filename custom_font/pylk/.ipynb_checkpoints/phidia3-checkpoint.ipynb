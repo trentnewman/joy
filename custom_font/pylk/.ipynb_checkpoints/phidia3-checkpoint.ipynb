{
 "cells": [
  {
   "cell_type": "code",
   "execution_count": 1,
   "id": "ae51cd88",
   "metadata": {},
   "outputs": [],
   "source": [
    "import os\n",
    "import pandas as pd\n",
    "import numpy as np\n",
    "\n",
    "from fontTools.ttLib import TTFont\n",
    "from fontTools.pens.svgPathPen import SVGPathPen\n",
    "\n",
    "import svgpath2mpl\n",
    "from svgpath2mpl import parse_path\n",
    "\n",
    "import matplotlib as mpl\n",
    "import matplotlib.pyplot as plt\n",
    "from matplotlib.path import Path\n",
    "import matplotlib.patches as patches"
   ]
  },
  {
   "cell_type": "code",
   "execution_count": 2,
   "id": "6b1c1c6d",
   "metadata": {},
   "outputs": [
    {
     "data": {
      "text/plain": [
       "['ff2.sfd', 'ff_c1.sfd', 'ff_c1.ttf', 'ff1.sfd', 'ff1.ttf', 'ff2.ttf']"
      ]
     },
     "execution_count": 2,
     "metadata": {},
     "output_type": "execute_result"
    }
   ],
   "source": [
    "fdir = '../ff/'\n",
    "os.listdir(fdir)"
   ]
  },
  {
   "cell_type": "code",
   "execution_count": 3,
   "id": "1f93edd3",
   "metadata": {},
   "outputs": [],
   "source": [
    "fnam = 'ff_c1.ttf'\n",
    "font = TTFont(fdir+fnam)"
   ]
  },
  {
   "cell_type": "code",
   "execution_count": 4,
   "id": "47fdffc6",
   "metadata": {},
   "outputs": [],
   "source": [
    "# cmap = font.getBestCmap()\n",
    "# cmap"
   ]
  },
  {
   "cell_type": "code",
   "execution_count": 5,
   "id": "805e3f98",
   "metadata": {},
   "outputs": [],
   "source": [
    "cdict = {\n",
    "    #symbols\n",
    "    '!': 'exclam',\n",
    "    '\"': 'quotedbl',\n",
    "    '$': 'dollar',\n",
    "    '%': 'percent',\n",
    "    \"'\": 'quotesingle',\n",
    "    '(': 'parenleft',\n",
    "    ')': 'parenright',\n",
    "    '*': 'asterisk',\n",
    "    ',': 'comma',\n",
    "    '-': 'hyphen',\n",
    "    '.': 'period',\n",
    "    ':': 'colon',\n",
    "    ';': 'semicolon',\n",
    "    '<': 'less',\n",
    "    '=': 'equal',\n",
    "    '>': 'greater',\n",
    "    '?': 'question',\n",
    "    '@': 'at',\n",
    "    #numbers\n",
    "    '0': 'zero',\n",
    "    '1': 'one',\n",
    "    '2': 'two',\n",
    "    '3': 'three',\n",
    "    '4': 'four',\n",
    "    '5': 'five',\n",
    "    '6': 'six',\n",
    "    '7': 'seven',\n",
    "    '8': 'eight',\n",
    "    '9': 'nine',\n",
    "    #grave\n",
    "    'À':'Agrave',\n",
    "    'È':'Egrave',\n",
    "    'Ì':'Igrave',\n",
    "    'Ò':'Ograve',\n",
    "    'Ù':'Ugrave',\n",
    "    'à':'agrave',\n",
    "    'è':'egrave',\n",
    "    'ì':'igrave',\n",
    "    'ò':'ograve',\n",
    "    'ù':'ugrave',\n",
    "    #acute\n",
    "    'Á':'Aacute',\n",
    "    'É':'Eacute',\n",
    "    'Í':'Iacute',\n",
    "    'Ó':'Oacute',\n",
    "    'Ú':'Uacute',\n",
    "    'á':'aacute',\n",
    "    'é':'eacute',\n",
    "    'í':'iacute',\n",
    "    'ó':'oacute',\n",
    "    'ú':'uacute',\n",
    "    #macron\n",
    "    'Ā':'Amacron',\n",
    "    'Ē':'Emacron',\n",
    "    'Ī':'Imacron',\n",
    "    'Ō':'Omacron',\n",
    "    'Ū':'Umacron',\n",
    "    'ā':'amacron',\n",
    "    'ē':'emacron',\n",
    "    'ī':'imacron',\n",
    "    'ō':'omacron',\n",
    "    'ū':'umacron',\n",
    "    #breve\n",
    "    'Ă':'Abreve',\n",
    "    'Ĕ':'Ebreve',\n",
    "    'Ĭ':'Ibreve',\n",
    "    'Ŏ':'Obreve',\n",
    "    'Ŭ':'Ubreve',\n",
    "    'ǎ':'abreve',\n",
    "    'ě':'ebreve',\n",
    "    'ǐ':'ibreve',\n",
    "    'ǒ':'obreve',\n",
    "    'ǔ':'ubreve',\n",
    "}\n",
    "#cdict['ū']\n",
    "clist = list(cdict.keys())"
   ]
  },
  {
   "cell_type": "code",
   "execution_count": 6,
   "id": "2af597cc",
   "metadata": {},
   "outputs": [],
   "source": [
    "txts = [\n",
    "#\n",
    "# ~~~~~~~~~~\n",
    "# cover\n",
    "\"心之所向\",\n",
    "#\n",
    "# ~~~~~~~~~~\n",
    "#\n",
    "#\n",
    "# ~~~~~~~~~~\n",
    "# pg01\n",
    "#\n",
    "\"心之所向\",\n",
    "\"Heart's direction\",\n",
    "#\n",
    "# ~~~~~~~~~~\n",
    "#\n",
    "#\n",
    "# ~~~~~~~~~~\n",
    "# pg02\n",
    "\"二零二三年\",\n",
    "\"Èr líng èrsān nián\",\n",
    "\"2023\",\n",
    "#\n",
    "\"圈出版社\",\n",
    "\"Quān chūbǎn shè\",\n",
    "\"Circle Press\",\n",
    "#\n",
    "# ~~~~~~~~~~\n",
    "#\n",
    "#\n",
    "# ~~~~~~~~~~\n",
    "# pg03\n",
    "#\n",
    "\"(Two strangers,\",\n",
    "\"meeting at a station)\",\n",
    "#\n",
    "\"对不起，\",\n",
    "\"duìbùqǐ,\",\n",
    "\"您能告诉我\",\n",
    "\"nín néng gàosu wǒ\",\n",
    "\"这是哪一班火车吗？\",\n",
    "\"zhè shì nǎ yībān huǒchē ma?\",\n",
    "#\n",
    "\"Excuse me,\" ,\n",
    "\"can you tell me\",\n",
    "\"which train this is?\",\n",
    "#\n",
    "# ~~~~~~~~~~\n",
    "#\n",
    "#\n",
    "# ~~~~~~~~~~\n",
    "# pg04\n",
    "#\n",
    "\"嗯，\",\n",
    "\"ēn,\",\n",
    "\"这是D2252次列车。\",\n",
    "\"zhè shì D2252 cì lièchē.\",\n",
    "\"它去往杭州。\",\n",
    "\"Tā qùwǎng Hángzhōu.\",\n",
    "#\n",
    "\"Hmm,\",\n",
    "\"this is the D2252 train.\",\n",
    "\"It goes to Hangzhou.\",\n",
    "#\n",
    "\"谢谢！\",\n",
    "\"xièxiè!\",\n",
    "\"您是哪里人？\",\n",
    "\"Nín shì nǎlǐ rén?\",\n",
    "#\n",
    "\"Thank you!\" ,\n",
    "\"Where are you from?\",\n",
    "#\n",
    "# pg05\n",
    "#\n",
    "\"我是上海人。\",\n",
    "\"wǒ shì Shànghǎi rén.\",\n",
    "\"你呢？\",\n",
    "\"Nǐ ne?\",\n",
    "#\n",
    "\"I'm from Shanghai.\",\n",
    "\"And you?\",\n",
    "#\n",
    "# ~~~~~~~~~~\n",
    "#\n",
    "#\n",
    "# ~~~~~~~~~~\n",
    "# pg06\n",
    "#\n",
    "\"我是南京人。\",\n",
    "\"wǒ shì Nánjīng rén.\",\n",
    "\"我来这里是因为\",\n",
    "\"Wǒ lái zhèlǐ shì yīnwèi\",\n",
    "\"我有朋友在杭州。\",\n",
    "\"wǒ yǒu péngyou zài Hángzhōu.\",\n",
    "#\n",
    "\"I'm from Nanjing.\",\n",
    "\"I'm here because\",\n",
    "\"I have a friend in Hangzhou.\",\n",
    "#\n",
    "\"哦，真的吗？\",\n",
    "\"ó, zhēn de ma?\",\n",
    "\"你们是多久以前认识的？\",\n",
    "\"Nǐmen shì duōjiǔ yǐqián rènshí de?\",\n",
    "#\n",
    "\"Oh, really?\",\n",
    "\"How long have you known each other?\",\n",
    "#\n",
    "# ~~~~~~~~~~\n",
    "#\n",
    "#\n",
    "# ~~~~~~~~~~\n",
    "# pg07\n",
    "#\n",
    "\"我们是在大学认识的。\",\n",
    "\"wǒmen shì zài dàxué rènshí de.\",\n",
    "\"已经有十年了。\",\n",
    "\"Yǐjīng yǒu shí nián le.\",\n",
    "#\n",
    "\"We met in university.\",\n",
    "\"It's been ten years.\",\n",
    "#\n",
    "# ~~~~~~~~~~\n",
    "#\n",
    "#\n",
    "# ~~~~~~~~~~\n",
    "# pg08\n",
    "#\n",
    "\"哇，真的吗？\",\n",
    "\"wā, zhēn de ma?\",\n",
    "\"时间过得真快啊！\",\n",
    "\"Shíjiān guò de zhēn kuài a!\",\n",
    "#\n",
    "\"Wow, really?\",\n",
    "\"Time passes so quickly!\",\n",
    "#\n",
    "# ~~~~~~~~~~\n",
    "]"
   ]
  },
  {
   "cell_type": "code",
   "execution_count": 7,
   "id": "0f6f1605",
   "metadata": {},
   "outputs": [
    {
     "data": {
      "text/plain": [
       "1"
      ]
     },
     "execution_count": 7,
     "metadata": {},
     "output_type": "execute_result"
    }
   ],
   "source": [
    "csca = {\n",
    "    \"engl\": 1,\n",
    "    \"punc\": 1,\n",
    "    \"piny\": 1,\n",
    "    \"hanz\": 1.5,\n",
    "}\n",
    "csca[\"engl\"]"
   ]
  },
  {
   "cell_type": "code",
   "execution_count": 8,
   "id": "3961960a",
   "metadata": {},
   "outputs": [
    {
     "data": {
      "text/plain": [
       "b'\\\\u3002'"
      ]
     },
     "execution_count": 8,
     "metadata": {},
     "output_type": "execute_result"
    }
   ],
   "source": [
    "'。'.encode(\"unicode_escape\")"
   ]
  },
  {
   "cell_type": "code",
   "execution_count": 9,
   "id": "34d9e75c",
   "metadata": {},
   "outputs": [],
   "source": [
    "tcs = []\n",
    "ics = []\n",
    "for x in range(len(txts)):\n",
    "    txt = txts[x]\n",
    "    tc = []\n",
    "    ic = []\n",
    "    for t in range(len(txt)):\n",
    "        char = txt[t]\n",
    "        charr = char.encode(\"unicode_escape\")\n",
    "        charr = str(charr)\n",
    "        ctyp = \"\"\n",
    "        if len(charr) <5:\n",
    "            if char in clist: # English\n",
    "                charrie = cdict[char]\n",
    "                ctyp = \"engl\"\n",
    "            else: # Common punctuation\n",
    "                charrie = char\n",
    "                ctyp = \"punc\"\n",
    "        else:\n",
    "            if char in clist: # Pinyin symbols\n",
    "                charrie = cdict[char]                    \n",
    "                ctyp = \"piny\"\n",
    "            else: # Chinese characters\n",
    "                charr = charr.replace(\"b'\\\\\\\\\",\"'\\\\\\\\\")\n",
    "                charr = charr.replace(\"'\",\"\")\n",
    "                charr = charr.replace(\"\\\\\\\\\",\"\")\n",
    "                charr = charr.upper()\n",
    "                charrie = charr.replace(\"U\",\"uni\")                  \n",
    "                ctyp = \"hanz\"\n",
    "        tc.append(csca[ctyp])\n",
    "        ic.append(charrie)\n",
    "    tcs.append(tc)\n",
    "    ics.append(ic)"
   ]
  },
  {
   "cell_type": "code",
   "execution_count": 10,
   "id": "394b44f1",
   "metadata": {},
   "outputs": [
    {
     "data": {
      "text/plain": [
       "6.0"
      ]
     },
     "execution_count": 10,
     "metadata": {},
     "output_type": "execute_result"
    }
   ],
   "source": [
    "sum(tcs[1])"
   ]
  },
  {
   "cell_type": "code",
   "execution_count": 11,
   "id": "c174903b",
   "metadata": {},
   "outputs": [
    {
     "name": "stdout",
     "output_type": "stream",
     "text": [
      "41\n"
     ]
    },
    {
     "data": {
      "image/png": "[encoded data removed]",
      "text/plain": [
       "<Figure size 162x72 with 6 Axes>"
      ]
     },
     "metadata": {},
     "output_type": "display_data"
    },
    {
     "name": "stdout",
     "output_type": "stream",
     "text": [
      "42\n"
     ]
    },
    {
     "data": {
      "image/png": "[encoded data removed]",
      "text/plain": [
       "<Figure size 342x72 with 19 Axes>"
      ]
     },
     "metadata": {},
     "output_type": "display_data"
    },
    {
     "name": "stdout",
     "output_type": "stream",
     "text": [
      "43\n"
     ]
    },
    {
     "data": {
      "image/png": "[encoded data removed]",
      "text/plain": [
       "<Figure size 189x72 with 7 Axes>"
      ]
     },
     "metadata": {},
     "output_type": "display_data"
    },
    {
     "name": "stdout",
     "output_type": "stream",
     "text": [
      "44\n"
     ]
    },
    {
     "data": {
      "image/png": "[encoded data removed]",
      "text/plain": [
       "<Figure size 414x72 with 23 Axes>"
      ]
     },
     "metadata": {},
     "output_type": "display_data"
    },
    {
     "name": "stdout",
     "output_type": "stream",
     "text": [
      "45\n"
     ]
    },
    {
     "data": {
      "image/png": "[encoded data removed]",
      "text/plain": [
       "<Figure size 216x72 with 8 Axes>"
      ]
     },
     "metadata": {},
     "output_type": "display_data"
    },
    {
     "name": "stdout",
     "output_type": "stream",
     "text": [
      "46\n"
     ]
    },
    {
     "data": {
      "image/png": "[encoded data removed]",
      "text/plain": [
       "<Figure size 504x72 with 28 Axes>"
      ]
     },
     "metadata": {},
     "output_type": "display_data"
    },
    {
     "name": "stdout",
     "output_type": "stream",
     "text": [
      "47\n"
     ]
    },
    {
     "data": {
      "image/png": "[encoded data removed]",
      "text/plain": [
       "<Figure size 306x72 with 17 Axes>"
      ]
     },
     "metadata": {},
     "output_type": "display_data"
    },
    {
     "name": "stdout",
     "output_type": "stream",
     "text": [
      "48\n"
     ]
    },
    {
     "data": {
      "image/png": "[encoded data removed]",
      "text/plain": [
       "<Figure size 288x72 with 16 Axes>"
      ]
     },
     "metadata": {},
     "output_type": "display_data"
    },
    {
     "name": "stdout",
     "output_type": "stream",
     "text": [
      "49\n"
     ]
    },
    {
     "data": {
      "image/png": "[encoded data removed]",
      "text/plain": [
       "<Figure size 504x72 with 28 Axes>"
      ]
     },
     "metadata": {},
     "output_type": "display_data"
    },
    {
     "name": "stdout",
     "output_type": "stream",
     "text": [
      "50\n"
     ]
    },
    {
     "ename": "KeyError",
     "evalue": "'uni54E6'",
     "output_type": "error",
     "traceback": [
      "\u001b[0;31m---------------------------------------------------------------------------\u001b[0m",
      "\u001b[0;31mKeyError\u001b[0m                                  Traceback (most recent call last)",
      "\u001b[0;32m<ipython-input-11-872075805604>\u001b[0m in \u001b[0;36m<module>\u001b[0;34m\u001b[0m\n\u001b[1;32m     22\u001b[0m                 \u001b[0mglyphSet\u001b[0m \u001b[0;34m=\u001b[0m \u001b[0mfont\u001b[0m\u001b[0;34m.\u001b[0m\u001b[0mgetGlyphSet\u001b[0m\u001b[0;34m(\u001b[0m\u001b[0;34m)\u001b[0m\u001b[0;34m\u001b[0m\u001b[0;34m\u001b[0m\u001b[0m\n\u001b[1;32m     23\u001b[0m                 \u001b[0msvgpen\u001b[0m \u001b[0;34m=\u001b[0m \u001b[0mSVGPathPen\u001b[0m\u001b[0;34m(\u001b[0m\u001b[0mglyphSet\u001b[0m\u001b[0;34m)\u001b[0m\u001b[0;34m\u001b[0m\u001b[0;34m\u001b[0m\u001b[0m\n\u001b[0;32m---> 24\u001b[0;31m                 \u001b[0mglyph\u001b[0m \u001b[0;34m=\u001b[0m \u001b[0mglyphSet\u001b[0m\u001b[0;34m[\u001b[0m\u001b[0mcharrie\u001b[0m\u001b[0;34m]\u001b[0m\u001b[0;34m\u001b[0m\u001b[0;34m\u001b[0m\u001b[0m\n\u001b[0m\u001b[1;32m     25\u001b[0m                 \u001b[0;31m#\u001b[0m\u001b[0;34m\u001b[0m\u001b[0;34m\u001b[0m\u001b[0;34m\u001b[0m\u001b[0m\n\u001b[1;32m     26\u001b[0m                 \u001b[0mglyph\u001b[0m\u001b[0;34m.\u001b[0m\u001b[0mdraw\u001b[0m\u001b[0;34m(\u001b[0m\u001b[0msvgpen\u001b[0m\u001b[0;34m)\u001b[0m\u001b[0;34m\u001b[0m\u001b[0;34m\u001b[0m\u001b[0m\n",
      "\u001b[0;32m~/.local/lib/python3.8/site-packages/fontTools/ttLib/ttGlyphSet.py\u001b[0m in \u001b[0;36m__getitem__\u001b[0;34m(self, glyphName)\u001b[0m\n\u001b[1;32m     54\u001b[0m \u001b[0;34m\u001b[0m\u001b[0m\n\u001b[1;32m     55\u001b[0m     \u001b[0;32mdef\u001b[0m \u001b[0m__getitem__\u001b[0m\u001b[0;34m(\u001b[0m\u001b[0mself\u001b[0m\u001b[0;34m,\u001b[0m \u001b[0mglyphName\u001b[0m\u001b[0;34m)\u001b[0m\u001b[0;34m:\u001b[0m\u001b[0;34m\u001b[0m\u001b[0;34m\u001b[0m\u001b[0m\n\u001b[0;32m---> 56\u001b[0;31m         \u001b[0;32mreturn\u001b[0m \u001b[0m_TTGlyphGlyf\u001b[0m\u001b[0;34m(\u001b[0m\u001b[0mself\u001b[0m\u001b[0;34m,\u001b[0m \u001b[0mglyphName\u001b[0m\u001b[0;34m)\u001b[0m\u001b[0;34m\u001b[0m\u001b[0;34m\u001b[0m\u001b[0m\n\u001b[0m\u001b[1;32m     57\u001b[0m \u001b[0;34m\u001b[0m\u001b[0m\n\u001b[1;32m     58\u001b[0m \u001b[0;34m\u001b[0m\u001b[0m\n",
      "\u001b[0;32m~/.local/lib/python3.8/site-packages/fontTools/ttLib/ttGlyphSet.py\u001b[0m in \u001b[0;36m__init__\u001b[0;34m(self, glyphSet, glyphName)\u001b[0m\n\u001b[1;32m     91\u001b[0m         \u001b[0mself\u001b[0m\u001b[0;34m.\u001b[0m\u001b[0mglyphSet\u001b[0m \u001b[0;34m=\u001b[0m \u001b[0mglyphSet\u001b[0m\u001b[0;34m\u001b[0m\u001b[0;34m\u001b[0m\u001b[0m\n\u001b[1;32m     92\u001b[0m         \u001b[0mself\u001b[0m\u001b[0;34m.\u001b[0m\u001b[0mname\u001b[0m \u001b[0;34m=\u001b[0m \u001b[0mglyphName\u001b[0m\u001b[0;34m\u001b[0m\u001b[0;34m\u001b[0m\u001b[0m\n\u001b[0;32m---> 93\u001b[0;31m         \u001b[0mself\u001b[0m\u001b[0;34m.\u001b[0m\u001b[0mwidth\u001b[0m\u001b[0;34m,\u001b[0m \u001b[0mself\u001b[0m\u001b[0;34m.\u001b[0m\u001b[0mlsb\u001b[0m \u001b[0;34m=\u001b[0m \u001b[0mglyphSet\u001b[0m\u001b[0;34m.\u001b[0m\u001b[0mhMetrics\u001b[0m\u001b[0;34m[\u001b[0m\u001b[0mglyphName\u001b[0m\u001b[0;34m]\u001b[0m\u001b[0;34m\u001b[0m\u001b[0;34m\u001b[0m\u001b[0m\n\u001b[0m\u001b[1;32m     94\u001b[0m         \u001b[0;32mif\u001b[0m \u001b[0mglyphSet\u001b[0m\u001b[0;34m.\u001b[0m\u001b[0mvMetrics\u001b[0m \u001b[0;32mis\u001b[0m \u001b[0;32mnot\u001b[0m \u001b[0;32mNone\u001b[0m\u001b[0;34m:\u001b[0m\u001b[0;34m\u001b[0m\u001b[0;34m\u001b[0m\u001b[0m\n\u001b[1;32m     95\u001b[0m             \u001b[0mself\u001b[0m\u001b[0;34m.\u001b[0m\u001b[0mheight\u001b[0m\u001b[0;34m,\u001b[0m \u001b[0mself\u001b[0m\u001b[0;34m.\u001b[0m\u001b[0mtsb\u001b[0m \u001b[0;34m=\u001b[0m \u001b[0mglyphSet\u001b[0m\u001b[0;34m.\u001b[0m\u001b[0mvMetrics\u001b[0m\u001b[0;34m[\u001b[0m\u001b[0mglyphName\u001b[0m\u001b[0;34m]\u001b[0m\u001b[0;34m\u001b[0m\u001b[0;34m\u001b[0m\u001b[0m\n",
      "\u001b[0;31mKeyError\u001b[0m: 'uni54E6'"
     ]
    },
    {
     "data": {
      "image/png": "[encoded data removed]",
      "text/plain": [
       "<Figure size 162x72 with 6 Axes>"
      ]
     },
     "metadata": {
      "needs_background": "light"
     },
     "output_type": "display_data"
    }
   ],
   "source": [
    "for x in range(len(txts)):\n",
    "    if x > 40:\n",
    "        #x = 14\n",
    "        print(x)\n",
    "        txt = txts[x]\n",
    "        # txt='Nǐ hǎo, nǐ zěnme yàng'\n",
    "        # txt\n",
    "        sca = 1\n",
    "        gpx = 10\n",
    "        gpy = 10\n",
    "#         print(\"len:\")\n",
    "#         print(len(txt))\n",
    "#         print(sum(tcs[x]))\n",
    "        fig, axs = plt.subplots(1, \n",
    "                                len(txt), \n",
    "                                figsize=((sum(tcs[x])*sca)/4, sca))\n",
    "        for t in range(len(txt)):\n",
    "            char = txt[t]\n",
    "            charrie = ics[x][t]\n",
    "            #\n",
    "            if char != ' ': # Handle spaces\n",
    "                glyphSet = font.getGlyphSet()\n",
    "                svgpen = SVGPathPen(glyphSet)\n",
    "                glyph = glyphSet[charrie]\n",
    "                #\n",
    "                glyph.draw(svgpen)\n",
    "                cpath = svgpen.getCommands()\n",
    "                cpath = cpath.replace('Z','') # replace 'Z' = 'closepath'\n",
    "                #cpath\n",
    "                #\n",
    "                pcpath = svgpath2mpl.parse_path(cpath)\n",
    "                vv = pcpath.vertices\n",
    "                vdf = pd.DataFrame(vv)\n",
    "                vxmi = vdf[0].min()\n",
    "                vxma = vdf[0].max()\n",
    "                vymi = vdf[1].min()\n",
    "                vyma = vdf[1].max()\n",
    "                #\n",
    "                #\n",
    "                patch = mpl.patches.PathPatch(\n",
    "                    pcpath, \n",
    "                    facecolor='none', \n",
    "                    edgecolor='black', \n",
    "                    linewidth=1)\n",
    "                patch.set_transform(axs[t].transData)\n",
    "                axs[t].add_patch(patch)\n",
    "                axs[t].set_aspect(1)\n",
    "                axs[t].axis(\"off\")\n",
    "                axs[t].set_xticklabels([])\n",
    "                axs[t].set_yticklabels([])\n",
    "                axs[t].set_xlim([vxmi-50, vxma+50])\n",
    "                axs[t].set_ylim([-350, 1100])\n",
    "            else: # space character\n",
    "                axs[t].set_aspect(1)\n",
    "                axs[t].axis(\"off\")\n",
    "                axs[t].set_xlim([0, 400])\n",
    "                axs[t].set_ylim([-350, 1100])\n",
    "        #\n",
    "        fig.subplots_adjust(left=0, wspace=0, hspace=0)\n",
    "        fig.patch.set_facecolor('xkcd:mint green')\n",
    "        plt.savefig(\"out/phidia2/line_\"+str(x)+\".svg\")\n",
    "        plt.show()"
   ]
  },
  {
   "cell_type": "code",
   "execution_count": 12,
   "id": "7733a44c",
   "metadata": {},
   "outputs": [
    {
     "name": "stdout",
     "output_type": "stream",
     "text": [
      "50\n",
      "哦，真的吗？\n",
      "ó, zhēn de ma?\n"
     ]
    }
   ],
   "source": [
    "print(x)\n",
    "print(txts[x])\n",
    "print(txts[x+1])"
   ]
  },
  {
   "cell_type": "code",
   "execution_count": 13,
   "id": "9e1b79fc",
   "metadata": {},
   "outputs": [
    {
     "data": {
      "text/plain": [
       "'哦'"
      ]
     },
     "execution_count": 13,
     "metadata": {},
     "output_type": "execute_result"
    }
   ],
   "source": [
    "char"
   ]
  },
  {
   "cell_type": "code",
   "execution_count": 14,
   "id": "53d99d12",
   "metadata": {},
   "outputs": [
    {
     "data": {
      "text/plain": [
       "'哦，真的吗？'"
      ]
     },
     "execution_count": 14,
     "metadata": {},
     "output_type": "execute_result"
    }
   ],
   "source": [
    "txt"
   ]
  },
  {
   "cell_type": "code",
   "execution_count": null,
   "id": "00efde04",
   "metadata": {},
   "outputs": [],
   "source": []
  }
 ],
 "metadata": {
  "kernelspec": {
   "display_name": "Python 3",
   "language": "python",
   "name": "python3"
  },
  "language_info": {
   "codemirror_mode": {
    "name": "ipython",
    "version": 3
   },
   "file_extension": ".py",
   "mimetype": "text/x-python",
   "name": "python",
   "nbconvert_exporter": "python",
   "pygments_lexer": "ipython3",
   "version": "3.8.10"
  }
 },
 "nbformat": 4,
 "nbformat_minor": 5
}
