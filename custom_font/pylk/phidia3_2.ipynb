{
 "cells": [
  {
   "cell_type": "code",
   "execution_count": 1,
   "id": "638cfc67",
   "metadata": {},
   "outputs": [],
   "source": [
    "import os\n",
    "import pandas as pd\n",
    "import numpy as np\n",
    "\n",
    "import ast\n",
    "\n",
    "from fontTools.ttLib import TTFont\n",
    "from fontTools.pens.svgPathPen import SVGPathPen\n",
    "\n",
    "import svgpath2mpl\n",
    "from svgpath2mpl import parse_path\n",
    "from svgutils.compose import *\n",
    "\n",
    "import matplotlib as mpl\n",
    "import matplotlib.pyplot as plt\n",
    "from matplotlib.path import Path\n",
    "import matplotlib.patches as patches"
   ]
  },
  {
   "cell_type": "code",
   "execution_count": 2,
   "id": "a85ffb46",
   "metadata": {},
   "outputs": [],
   "source": [
    "fdir = '../ff/'\n",
    "#os.listdir(fdir)\n",
    "fnam = 'ff_c1.ttf'\n",
    "font = TTFont(fdir+fnam)\n",
    "cmap = font.getBestCmap()\n",
    "cmapv = list(cmap.values())\n",
    "# cmap"
   ]
  },
  {
   "cell_type": "code",
   "execution_count": 3,
   "id": "b722ae3f",
   "metadata": {},
   "outputs": [],
   "source": [
    "with open('cdict1.txt') as f:\n",
    "    data = f.read()\n",
    "cdict = ast.literal_eval(data)\n",
    "clist = list(cdict.keys())\n",
    "#cdict['ū']"
   ]
  },
  {
   "cell_type": "code",
   "execution_count": 4,
   "id": "777b5bbd",
   "metadata": {},
   "outputs": [],
   "source": [
    "tdir = '../../Generative/chatgpt/'\n",
    "tfil = '李雪遗传学研究_9.txt'\n",
    "#sorted(os.listdir(tdir))\n",
    "#\n",
    "my_tfil = open(tdir+tfil, \"r\")\n",
    "data = my_tfil.read()\n",
    "my_tfil.close()\n",
    "data = data.split(\"\\n\")\n",
    "data = [d for d in data if d != \"#\"]\n",
    "data = [d for d in data if d != \"# ~~~~~~~~~~\"]\n",
    "#data\n",
    "#\n",
    "pind = [i for i in range(len(data)) if \"# pg\" in data[i]]\n",
    "pages = [data[pind[ii]:pind[ii+1]] for ii in range(len(pind)-1)]\n",
    "#pages[4]"
   ]
  },
  {
   "cell_type": "code",
   "execution_count": 5,
   "id": "964a1945",
   "metadata": {},
   "outputs": [],
   "source": [
    "for p in range(len(pages)):\n",
    "    pp = p"
   ]
  },
  {
   "cell_type": "code",
   "execution_count": 6,
   "id": "e5570a57",
   "metadata": {},
   "outputs": [
    {
     "data": {
      "text/plain": [
       "['她深呼吸，',\n",
       " 'Tā shēnhūxī,',\n",
       " '尝试着把她的想法整理',\n",
       " 'chángshìzhe bǎ tā de xiǎngfǎ zhěnglǐ',\n",
       " '成清晰的思路。',\n",
       " 'chéng qīngxī de sīlù.',\n",
       " 'She took a deep breath,',\n",
       " 'trying to organize her thoughts',\n",
       " 'into a clear line of reasoning.',\n",
       " '然而，',\n",
       " \"Rán'ér,\",\n",
       " '外面的建筑工地噪音',\n",
       " 'wàimiàn de jiànzhú gōngdì zàoyīn',\n",
       " '让她很难集中精力。',\n",
       " 'ràng tā hěn nán jízhōng jīnglì.',\n",
       " 'However,',\n",
       " 'the noise from the construction site outside',\n",
       " 'is making it hard for her to focus.']"
      ]
     },
     "execution_count": 6,
     "metadata": {},
     "output_type": "execute_result"
    }
   ],
   "source": [
    "pp = 16 ## set page\n",
    "txts = pages[pp]\n",
    "pg = [t for t in txts if \"# pg\" in t]\n",
    "pg = pg[0].replace(\"# \",\"\")\n",
    "txts = [t for t in txts if \"# pg\" not in t]\n",
    "txts"
   ]
  },
  {
   "cell_type": "code",
   "execution_count": 7,
   "id": "faac7e15",
   "metadata": {},
   "outputs": [],
   "source": [
    "# size correction\n",
    "# english, punctuation, pinyin, hanzi\n",
    "csca = {\n",
    "    \"engl\": 1,\n",
    "    \"punc\": 1,\n",
    "    \"piny\": 1,\n",
    "    \"hanz\": 1.75,\n",
    "}\n",
    "csca[\"engl\"]\n",
    "#\n",
    "tcs = []\n",
    "ics = []\n",
    "pg_miss_c = []\n",
    "for x in range(len(txts)):\n",
    "    txt = txts[x]\n",
    "    tc = []\n",
    "    ic = []\n",
    "    for t in range(len(txt)):\n",
    "        char = txt[t]\n",
    "        charr = char.encode(\"unicode_escape\")\n",
    "        charr = str(charr)\n",
    "        ctyp = \"\"\n",
    "        if len(charr) <5:\n",
    "            if char in clist: # English\n",
    "                charrie = cdict[char]\n",
    "                ctyp = \"engl\"\n",
    "            else: # Common punctuation\n",
    "                charrie = char\n",
    "                ctyp = \"punc\"\n",
    "        else:\n",
    "            if char in clist: # Pinyin symbols\n",
    "                charrie = cdict[char]                    \n",
    "                ctyp = \"piny\"\n",
    "            else: # Chinese characters\n",
    "                charr = charr.replace(\"b'\\\\\\\\\",\"'\\\\\\\\\")\n",
    "                charr = charr.replace(\"'\",\"\")\n",
    "                charr = charr.replace(\"\\\\\\\\\",\"\")\n",
    "                charr = charr.upper()\n",
    "                charrie = charr.replace(\"U\",\"uni\")                  \n",
    "                ctyp = \"hanz\"\n",
    "                if charrie not in cmapv:\n",
    "                    pg_miss_c.append(char)                    \n",
    "        tc.append(csca[ctyp])\n",
    "        ic.append(charrie)\n",
    "    tcs.append(tc)\n",
    "    ics.append(ic)"
   ]
  },
  {
   "cell_type": "code",
   "execution_count": 8,
   "id": "299d8b26",
   "metadata": {},
   "outputs": [
    {
     "name": "stdout",
     "output_type": "stream",
     "text": [
      "custom font\n",
      "no of chars: 378\n"
     ]
    }
   ],
   "source": [
    "print('custom font')\n",
    "print('no of chars: '+str(len(cmapv)))"
   ]
  },
  {
   "cell_type": "code",
   "execution_count": 11,
   "id": "022ef47d",
   "metadata": {},
   "outputs": [
    {
     "name": "stdout",
     "output_type": "stream",
     "text": [
      "missing characters\n",
      "21\n"
     ]
    },
    {
     "data": {
      "text/plain": [
       "{'中',\n",
       " '力',\n",
       " '吸',\n",
       " '呼',\n",
       " '噪',\n",
       " '尝',\n",
       " '建',\n",
       " '思',\n",
       " '把',\n",
       " '整',\n",
       " '晰',\n",
       " '法',\n",
       " '清',\n",
       " '筑',\n",
       " '精',\n",
       " '而',\n",
       " '让',\n",
       " '试',\n",
       " '路',\n",
       " '集',\n",
       " '音'}"
      ]
     },
     "execution_count": 11,
     "metadata": {},
     "output_type": "execute_result"
    }
   ],
   "source": [
    "print('missing characters')\n",
    "print(len(set(pg_miss_c)))\n",
    "set(pg_miss_c)"
   ]
  },
  {
   "cell_type": "code",
   "execution_count": 10,
   "id": "36f1c484",
   "metadata": {},
   "outputs": [
    {
     "name": "stdout",
     "output_type": "stream",
     "text": [
      "0\n"
     ]
    },
    {
     "ename": "KeyError",
     "evalue": "'uni547C'",
     "output_type": "error",
     "traceback": [
      "\u001b[0;31m---------------------------------------------------------------------------\u001b[0m",
      "\u001b[0;31mKeyError\u001b[0m                                  Traceback (most recent call last)",
      "\u001b[0;32m<ipython-input-10-0cdc380ab75a>\u001b[0m in \u001b[0;36m<module>\u001b[0;34m\u001b[0m\n\u001b[1;32m     22\u001b[0m                 \u001b[0mglyphSet\u001b[0m \u001b[0;34m=\u001b[0m \u001b[0mfont\u001b[0m\u001b[0;34m.\u001b[0m\u001b[0mgetGlyphSet\u001b[0m\u001b[0;34m(\u001b[0m\u001b[0;34m)\u001b[0m\u001b[0;34m\u001b[0m\u001b[0;34m\u001b[0m\u001b[0m\n\u001b[1;32m     23\u001b[0m                 \u001b[0msvgpen\u001b[0m \u001b[0;34m=\u001b[0m \u001b[0mSVGPathPen\u001b[0m\u001b[0;34m(\u001b[0m\u001b[0mglyphSet\u001b[0m\u001b[0;34m)\u001b[0m\u001b[0;34m\u001b[0m\u001b[0;34m\u001b[0m\u001b[0m\n\u001b[0;32m---> 24\u001b[0;31m                 \u001b[0mglyph\u001b[0m \u001b[0;34m=\u001b[0m \u001b[0mglyphSet\u001b[0m\u001b[0;34m[\u001b[0m\u001b[0mcharrie\u001b[0m\u001b[0;34m]\u001b[0m\u001b[0;34m\u001b[0m\u001b[0;34m\u001b[0m\u001b[0m\n\u001b[0m\u001b[1;32m     25\u001b[0m                 \u001b[0;31m#\u001b[0m\u001b[0;34m\u001b[0m\u001b[0;34m\u001b[0m\u001b[0;34m\u001b[0m\u001b[0m\n\u001b[1;32m     26\u001b[0m                 \u001b[0mglyph\u001b[0m\u001b[0;34m.\u001b[0m\u001b[0mdraw\u001b[0m\u001b[0;34m(\u001b[0m\u001b[0msvgpen\u001b[0m\u001b[0;34m)\u001b[0m\u001b[0;34m\u001b[0m\u001b[0;34m\u001b[0m\u001b[0m\n",
      "\u001b[0;32m~/.local/lib/python3.8/site-packages/fontTools/ttLib/ttGlyphSet.py\u001b[0m in \u001b[0;36m__getitem__\u001b[0;34m(self, glyphName)\u001b[0m\n\u001b[1;32m     54\u001b[0m \u001b[0;34m\u001b[0m\u001b[0m\n\u001b[1;32m     55\u001b[0m     \u001b[0;32mdef\u001b[0m \u001b[0m__getitem__\u001b[0m\u001b[0;34m(\u001b[0m\u001b[0mself\u001b[0m\u001b[0;34m,\u001b[0m \u001b[0mglyphName\u001b[0m\u001b[0;34m)\u001b[0m\u001b[0;34m:\u001b[0m\u001b[0;34m\u001b[0m\u001b[0;34m\u001b[0m\u001b[0m\n\u001b[0;32m---> 56\u001b[0;31m         \u001b[0;32mreturn\u001b[0m \u001b[0m_TTGlyphGlyf\u001b[0m\u001b[0;34m(\u001b[0m\u001b[0mself\u001b[0m\u001b[0;34m,\u001b[0m \u001b[0mglyphName\u001b[0m\u001b[0;34m)\u001b[0m\u001b[0;34m\u001b[0m\u001b[0;34m\u001b[0m\u001b[0m\n\u001b[0m\u001b[1;32m     57\u001b[0m \u001b[0;34m\u001b[0m\u001b[0m\n\u001b[1;32m     58\u001b[0m \u001b[0;34m\u001b[0m\u001b[0m\n",
      "\u001b[0;32m~/.local/lib/python3.8/site-packages/fontTools/ttLib/ttGlyphSet.py\u001b[0m in \u001b[0;36m__init__\u001b[0;34m(self, glyphSet, glyphName)\u001b[0m\n\u001b[1;32m     91\u001b[0m         \u001b[0mself\u001b[0m\u001b[0;34m.\u001b[0m\u001b[0mglyphSet\u001b[0m \u001b[0;34m=\u001b[0m \u001b[0mglyphSet\u001b[0m\u001b[0;34m\u001b[0m\u001b[0;34m\u001b[0m\u001b[0m\n\u001b[1;32m     92\u001b[0m         \u001b[0mself\u001b[0m\u001b[0;34m.\u001b[0m\u001b[0mname\u001b[0m \u001b[0;34m=\u001b[0m \u001b[0mglyphName\u001b[0m\u001b[0;34m\u001b[0m\u001b[0;34m\u001b[0m\u001b[0m\n\u001b[0;32m---> 93\u001b[0;31m         \u001b[0mself\u001b[0m\u001b[0;34m.\u001b[0m\u001b[0mwidth\u001b[0m\u001b[0;34m,\u001b[0m \u001b[0mself\u001b[0m\u001b[0;34m.\u001b[0m\u001b[0mlsb\u001b[0m \u001b[0;34m=\u001b[0m \u001b[0mglyphSet\u001b[0m\u001b[0;34m.\u001b[0m\u001b[0mhMetrics\u001b[0m\u001b[0;34m[\u001b[0m\u001b[0mglyphName\u001b[0m\u001b[0;34m]\u001b[0m\u001b[0;34m\u001b[0m\u001b[0;34m\u001b[0m\u001b[0m\n\u001b[0m\u001b[1;32m     94\u001b[0m         \u001b[0;32mif\u001b[0m \u001b[0mglyphSet\u001b[0m\u001b[0;34m.\u001b[0m\u001b[0mvMetrics\u001b[0m \u001b[0;32mis\u001b[0m \u001b[0;32mnot\u001b[0m \u001b[0;32mNone\u001b[0m\u001b[0;34m:\u001b[0m\u001b[0;34m\u001b[0m\u001b[0;34m\u001b[0m\u001b[0m\n\u001b[1;32m     95\u001b[0m             \u001b[0mself\u001b[0m\u001b[0;34m.\u001b[0m\u001b[0mheight\u001b[0m\u001b[0;34m,\u001b[0m \u001b[0mself\u001b[0m\u001b[0;34m.\u001b[0m\u001b[0mtsb\u001b[0m \u001b[0;34m=\u001b[0m \u001b[0mglyphSet\u001b[0m\u001b[0;34m.\u001b[0m\u001b[0mvMetrics\u001b[0m\u001b[0;34m[\u001b[0m\u001b[0mglyphName\u001b[0m\u001b[0;34m]\u001b[0m\u001b[0;34m\u001b[0m\u001b[0;34m\u001b[0m\u001b[0m\n",
      "\u001b[0;31mKeyError\u001b[0m: 'uni547C'"
     ]
    },
    {
     "data": {
      "image/png": "[encoded data removed]",
      "text/plain": [
       "<Figure size 157.5x72 with 5 Axes>"
      ]
     },
     "metadata": {
      "needs_background": "light"
     },
     "output_type": "display_data"
    }
   ],
   "source": [
    "for x in range(len(txts)):\n",
    "    if x >= 0: # use for subset\n",
    "        #x = 14\n",
    "        print(x)\n",
    "        txt = txts[x]\n",
    "        # txt='Nǐ hǎo, nǐ zěnme yàng'\n",
    "        # txt\n",
    "        sca = 1\n",
    "        gpx = 10\n",
    "        gpy = 10\n",
    "#         print(\"len:\")\n",
    "#         print(len(txt))\n",
    "#         print(sum(tcs[x]))\n",
    "        fig, axs = plt.subplots(1, \n",
    "                                len(txt), \n",
    "                                figsize=((sum(tcs[x])*sca)/4, sca))\n",
    "        for t in range(len(txt)):\n",
    "            char = txt[t]\n",
    "            charrie = ics[x][t]\n",
    "            #\n",
    "            if char != ' ': # Handle spaces\n",
    "                glyphSet = font.getGlyphSet()\n",
    "                svgpen = SVGPathPen(glyphSet)\n",
    "                glyph = glyphSet[charrie]\n",
    "                #\n",
    "                glyph.draw(svgpen)\n",
    "                cpath = svgpen.getCommands()\n",
    "                cpath = cpath.replace('Z','') # replace 'Z' = 'closepath'\n",
    "                #cpath\n",
    "                #\n",
    "                pcpath = svgpath2mpl.parse_path(cpath)\n",
    "                vv = pcpath.vertices\n",
    "                vdf = pd.DataFrame(vv)\n",
    "                vxmi = vdf[0].min()\n",
    "                vxma = vdf[0].max()\n",
    "                vymi = vdf[1].min()\n",
    "                vyma = vdf[1].max()\n",
    "                #\n",
    "                #\n",
    "                patch = mpl.patches.PathPatch(\n",
    "                    pcpath, \n",
    "                    facecolor='none', \n",
    "                    edgecolor='black', \n",
    "                    linewidth=1)\n",
    "                patch.set_transform(axs[t].transData)\n",
    "                axs[t].add_patch(patch)\n",
    "                axs[t].set_aspect(1)\n",
    "                axs[t].axis(\"off\")\n",
    "                axs[t].set_xticklabels([])\n",
    "                axs[t].set_yticklabels([])\n",
    "                axs[t].set_xlim([vxmi-50, vxma+50])\n",
    "                axs[t].set_ylim([-350, 1100])\n",
    "            else: # space character\n",
    "                axs[t].set_aspect(1)\n",
    "                axs[t].axis(\"off\")\n",
    "                axs[t].set_xlim([0, 400])\n",
    "                axs[t].set_ylim([-350, 1100])\n",
    "        #\n",
    "        fig.subplots_adjust(left=0, wspace=0, hspace=0)\n",
    "        fig.patch.set_facecolor('xkcd:mint green')\n",
    "        plt.savefig(\"out/phidia3/\"+pg+\"_l\"+str(x)+\".svg\")\n",
    "        plt.show()"
   ]
  },
  {
   "cell_type": "code",
   "execution_count": null,
   "id": "ba913680",
   "metadata": {},
   "outputs": [],
   "source": [
    "txt"
   ]
  },
  {
   "cell_type": "code",
   "execution_count": null,
   "id": "8bbc97bb",
   "metadata": {},
   "outputs": [],
   "source": [
    "for t in range(len(txts)):\n",
    "    print(t)\n",
    "    print(txts[t])"
   ]
  },
  {
   "cell_type": "code",
   "execution_count": null,
   "id": "a8300253",
   "metadata": {},
   "outputs": [],
   "source": [
    "#txts[0]"
   ]
  },
  {
   "cell_type": "code",
   "execution_count": null,
   "id": "e0a3ef1e",
   "metadata": {},
   "outputs": [],
   "source": [
    "# concatenate page text\n",
    "#\n",
    "spp = pg\n",
    "svgs = sorted(os.listdir('./out/phidia3/'))\n",
    "svgs = [s for s in svgs if spp in s]\n",
    "#\n",
    "s_p0 = 'Figure(\"0.4cm\", \"0.4cm\",' # not actually cm\n",
    "s_p1 = 'Panel(SVG(\"out/phidia3/'\n",
    "s_p2 = '\").scale(0.025)), '\n",
    "s_pn = ').tile(1,'+str(len(svgs))+').save(\"out/phidia3/'+spp+'_stack.svg\")'\n",
    "#\n",
    "s_pl = []\n",
    "s_pl.append(s_p0)\n",
    "for s in svgs:\n",
    "    s_pl.append(s_p1+s+s_p2)\n",
    "s_pl.append(s_pn)\n",
    "#\n",
    "sfun = ''.join(s_pl)\n",
    "eval(sfun)"
   ]
  },
  {
   "cell_type": "code",
   "execution_count": null,
   "id": "7e26e80f",
   "metadata": {},
   "outputs": [],
   "source": []
  }
 ],
 "metadata": {
  "kernelspec": {
   "display_name": "Python 3",
   "language": "python",
   "name": "python3"
  },
  "language_info": {
   "codemirror_mode": {
    "name": "ipython",
    "version": 3
   },
   "file_extension": ".py",
   "mimetype": "text/x-python",
   "name": "python",
   "nbconvert_exporter": "python",
   "pygments_lexer": "ipython3",
   "version": "3.8.10"
  }
 },
 "nbformat": 4,
 "nbformat_minor": 5
}
