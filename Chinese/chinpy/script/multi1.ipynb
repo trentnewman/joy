{
 "cells": [
  {
   "cell_type": "code",
   "execution_count": 1,
   "id": "108544d4",
   "metadata": {},
   "outputs": [],
   "source": [
    "import os\n",
    "import json\n",
    "import matplotlib.pyplot as plt"
   ]
  },
  {
   "cell_type": "code",
   "execution_count": 2,
   "id": "2e4b15fe",
   "metadata": {},
   "outputs": [],
   "source": [
    "dirrie1 = '../in/'\n",
    "dirrie2 = '../out/'\n",
    "#os.listdir(dirrie1)"
   ]
  },
  {
   "cell_type": "code",
   "execution_count": 3,
   "id": "1a439257",
   "metadata": {},
   "outputs": [],
   "source": [
    "f = open(dirrie1+'STRK-Heiti.json')\n",
    "data = json.load(f)\n",
    "f.close()"
   ]
  },
  {
   "cell_type": "code",
   "execution_count": 4,
   "id": "bb02d6f8",
   "metadata": {},
   "outputs": [],
   "source": [
    "#len(data)"
   ]
  },
  {
   "cell_type": "code",
   "execution_count": 5,
   "id": "1c095c6c",
   "metadata": {},
   "outputs": [],
   "source": [
    "for u in data.keys():\n",
    "    u"
   ]
  },
  {
   "cell_type": "code",
   "execution_count": 6,
   "id": "5df91cd6",
   "metadata": {},
   "outputs": [
    {
     "data": {
      "text/plain": [
       "'U+9FEF'"
      ]
     },
     "execution_count": 6,
     "metadata": {},
     "output_type": "execute_result"
    }
   ],
   "source": [
    "u"
   ]
  },
  {
   "cell_type": "code",
   "execution_count": 7,
   "id": "29758472",
   "metadata": {},
   "outputs": [],
   "source": [
    "u = 'U+4E00'\n",
    "\n",
    "p = 0"
   ]
  },
  {
   "cell_type": "code",
   "execution_count": 8,
   "id": "120752ed",
   "metadata": {},
   "outputs": [
    {
     "name": "stdout",
     "output_type": "stream",
     "text": [
      "0\n",
      "[[0.0, 0.89], [0.89, 0.89], [1.02, 0.97]]\n",
      "1\n",
      "[[0.06, 0.89], [0.255, 0.93], [0.405, 0.93], [0.555, 0.93], [0.705, 0.93], [0.9, 0.97]]\n",
      "2\n",
      "[[0.93, 0.89], [0.735, 0.93], [0.585, 0.93], [0.435, 0.93], [0.285, 0.93], [0.15, 0.93], [-0.03, 0.97]]\n"
     ]
    }
   ],
   "source": [
    "for s in range(len(data[u])):\n",
    "    print(s)\n",
    "    print(data[u][s])"
   ]
  },
  {
   "cell_type": "code",
   "execution_count": 9,
   "id": "63ac6ecc",
   "metadata": {},
   "outputs": [
    {
     "name": "stdout",
     "output_type": "stream",
     "text": [
      "0\n",
      "[0.0, 0.89]\n",
      "1\n",
      "[0.89, 0.89]\n",
      "2\n",
      "[1.02, 0.97]\n"
     ]
    }
   ],
   "source": [
    "s = 0\n",
    "for p in range(len(data[u][s])):\n",
    "    print(p)\n",
    "    print(data[u][s][p])"
   ]
  },
  {
   "cell_type": "code",
   "execution_count": 10,
   "id": "3888260c",
   "metadata": {},
   "outputs": [
    {
     "data": {
      "text/plain": [
       "(0.0, 0.89)"
      ]
     },
     "execution_count": 10,
     "metadata": {},
     "output_type": "execute_result"
    }
   ],
   "source": [
    "p = 0\n",
    "x = 0\n",
    "y = 1\n",
    "data[u][s][p][x], data[u][s][p][y]"
   ]
  },
  {
   "cell_type": "code",
   "execution_count": 11,
   "id": "25c09f0b",
   "metadata": {},
   "outputs": [],
   "source": [
    "# Using website\n",
    "# Ideally would be able to convert in python\n",
    "# https://www.chineseconverter.com/en/convert/unicode\n",
    "# ni, 你, \\u4f60, 'U+4F60'\n",
    "# hao, 好, \\u597d, 'U+597D'\n",
    "# ma, 吗, \\u5417, 'U+5417'"
   ]
  },
  {
   "cell_type": "code",
   "execution_count": 22,
   "id": "d4661935",
   "metadata": {},
   "outputs": [],
   "source": [
    "chars = ['U+4F60', 'U+597D', 'U+5417',\n",
    "        'U+4F60', 'U+597D', 'U+5417',\n",
    "        'U+4F60', 'U+597D', 'U+5417',\n",
    "        'U+4F60', 'U+597D', 'U+5417',\n",
    "        'U+4F60', 'U+597D', 'U+5417']\n",
    "for c in chars:\n",
    "    c"
   ]
  },
  {
   "cell_type": "code",
   "execution_count": 24,
   "id": "6066880b",
   "metadata": {},
   "outputs": [
    {
     "data": {
      "image/png": "[encoded data removed]",
      "text/plain": [
       "<Figure size 1080x72 with 15 Axes>"
      ]
     },
     "metadata": {
      "needs_background": "light"
     },
     "output_type": "display_data"
    }
   ],
   "source": [
    "fig, axs = plt.subplots(1, len(chars), figsize=((len(chars)*1), 1))\n",
    "for c in range(len(chars)):\n",
    "    un = c\n",
    "    u = chars[c]\n",
    "    for s in range(len(data[u])):\n",
    "        xx = []\n",
    "        yy = []\n",
    "        for p in range(len(data[u][s])):\n",
    "            xx.append(data[u][s][p][x])\n",
    "            yy.append(data[u][s][p][y])\n",
    "        axs[c].plot(xx, yy, c='k', lw=2)\n",
    "        axs[c].set_ylim(1.1,0)\n",
    "        axs[c].axis(\"off\")\n",
    "plt.savefig(dirrie2+\"mult_test1.svg\")\n",
    "plt.show()"
   ]
  },
  {
   "cell_type": "code",
   "execution_count": null,
   "id": "a083db8d",
   "metadata": {},
   "outputs": [],
   "source": []
  },
  {
   "cell_type": "code",
   "execution_count": null,
   "id": "a9eb19b8",
   "metadata": {},
   "outputs": [],
   "source": []
  }
 ],
 "metadata": {
  "kernelspec": {
   "display_name": "Python 3 (ipykernel)",
   "language": "python",
   "name": "python3"
  },
  "language_info": {
   "codemirror_mode": {
    "name": "ipython",
    "version": 3
   },
   "file_extension": ".py",
   "mimetype": "text/x-python",
   "name": "python",
   "nbconvert_exporter": "python",
   "pygments_lexer": "ipython3",
   "version": "3.8.10"
  }
 },
 "nbformat": 4,
 "nbformat_minor": 5
}
