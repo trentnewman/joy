{
 "cells": [
  {
   "cell_type": "code",
   "execution_count": 1,
   "id": "da83c0a7",
   "metadata": {},
   "outputs": [],
   "source": [
    "import os\n",
    "import json\n",
    "import matplotlib.pyplot as plt\n",
    "import numpy as np"
   ]
  },
  {
   "cell_type": "code",
   "execution_count": 2,
   "id": "02c96263",
   "metadata": {},
   "outputs": [
    {
     "data": {
      "text/plain": [
       "['STRK-Mingti-Ext.json',\n",
       " 'STRK-Mingti.json',\n",
       " 'STRK-Heiti.json',\n",
       " 'DFLIHL1B.json',\n",
       " 'STRK-Kaiti.json',\n",
       " 'note.txt']"
      ]
     },
     "execution_count": 2,
     "metadata": {},
     "output_type": "execute_result"
    }
   ],
   "source": [
    "dirrie1 = '../in/'\n",
    "dirrie2 = '../out/'\n",
    "os.listdir(dirrie1)"
   ]
  },
  {
   "cell_type": "code",
   "execution_count": 3,
   "id": "7911ab1d",
   "metadata": {},
   "outputs": [],
   "source": [
    "fnt = 'STRK-Heiti.json'\n",
    "fntn = 'hei'"
   ]
  },
  {
   "cell_type": "code",
   "execution_count": 4,
   "id": "dc766d36",
   "metadata": {},
   "outputs": [],
   "source": [
    "f = open(dirrie1+fnt)\n",
    "data = json.load(f)\n",
    "f.close()"
   ]
  },
  {
   "cell_type": "code",
   "execution_count": null,
   "id": "a0875338",
   "metadata": {},
   "outputs": [],
   "source": []
  },
  {
   "cell_type": "code",
   "execution_count": 5,
   "id": "5df1f82f",
   "metadata": {},
   "outputs": [],
   "source": [
    "txts = [\n",
    "#     '篇哲学对话',\n",
    "#     '二零二三年',\n",
    "    '圈出版社',\n",
    "#     '阿强',\n",
    "#     '世界是什么',\n",
    "#     '保华',\n",
    "#     '世界是我们所生活的地方',\n",
    "#     '阿强',\n",
    "#     '那么人是什么',\n",
    "#     '保华',\n",
    "#     '人是世界的一部分是有意识的生命体',\n",
    "#     '阿强',\n",
    "#     '人为什么存在',\n",
    "#     '保华',\n",
    "#     '这是一个深奥的问题有许多不同的看法',\n",
    "#     '有些人认为人存在是为了完成某种目的',\n",
    "#     '有些人认为人存在是因为这是宇宙的规律',\n",
    "]"
   ]
  },
  {
   "cell_type": "code",
   "execution_count": 10,
   "id": "952c1549",
   "metadata": {},
   "outputs": [
    {
     "data": {
      "text/plain": [
       "b'\\\\u793e'"
      ]
     },
     "execution_count": 10,
     "metadata": {},
     "output_type": "execute_result"
    }
   ],
   "source": [
    "'社'.encode(\"unicode_escape\")"
   ]
  },
  {
   "cell_type": "code",
   "execution_count": 6,
   "id": "325c8e2f",
   "metadata": {},
   "outputs": [
    {
     "name": "stdout",
     "output_type": "stream",
     "text": [
      "0\n"
     ]
    },
    {
     "data": {
      "image/png": "[encoded data removed]",
      "text/plain": [
       "<Figure size 216x54 with 4 Axes>"
      ]
     },
     "metadata": {},
     "output_type": "display_data"
    }
   ],
   "source": [
    "for t in range(len(txts)):\n",
    "    #t = 8\n",
    "    print(t)\n",
    "    txt = txts[t]\n",
    "    #txt='我很高兴'\n",
    "    #\n",
    "    txte = txt.encode(\"unicode_escape\")\n",
    "    txte = str(txte)\n",
    "    txte = txte.replace(\"'\",\"\")\n",
    "    txte = txte.replace(\"b'\",\"\")\n",
    "    crs = txte.split('\\\\\\\\')\n",
    "    crs = [c for c in crs if 'u' in c]\n",
    "    crs = [c.upper() for c in crs]\n",
    "    crs = [c.replace('U','U+') for c in crs]\n",
    "    chars = crs\n",
    "    #\n",
    "    sca = 0.75\n",
    "    fig, axs = plt.subplots(1, len(chars), figsize=((len(chars)*sca), sca))\n",
    "    for c in range(len(chars)):\n",
    "        #c = 5\n",
    "        un = c\n",
    "        u = chars[c]\n",
    "        for s in range(len(data[u])):\n",
    "            xx = []\n",
    "            yy = []\n",
    "            for p in range(len(data[u][s])):\n",
    "                xx.append(data[u][s][p][0])\n",
    "                yy.append(data[u][s][p][1])\n",
    "            axs[c].plot(xx, yy, c='k', lw=2)\n",
    "            axs[c].axis(\"off\")\n",
    "        fntc = ['STRK-Heiti.json', 'STRK-Mingti.json']\n",
    "        if (fnt in fntc and u == 'U+4E00'): # correction for '一' height\n",
    "            ymi = 1.5\n",
    "            yma = 0.3\n",
    "        else:\n",
    "            ymi = 1.1\n",
    "            yma = -0.1    \n",
    "        axs[c].set_ylim(ymi, yma)\n",
    "    fig.patch.set_facecolor('xkcd:mint green')\n",
    "    plt.savefig(dirrie2+\"multi3_\"+str(t)+\".svg\")\n",
    "    plt.show()"
   ]
  },
  {
   "cell_type": "code",
   "execution_count": null,
   "id": "03fa93b1",
   "metadata": {},
   "outputs": [],
   "source": []
  }
 ],
 "metadata": {
  "kernelspec": {
   "display_name": "Python 3",
   "language": "python",
   "name": "python3"
  },
  "language_info": {
   "codemirror_mode": {
    "name": "ipython",
    "version": 3
   },
   "file_extension": ".py",
   "mimetype": "text/x-python",
   "name": "python",
   "nbconvert_exporter": "python",
   "pygments_lexer": "ipython3",
   "version": "3.8.10"
  }
 },
 "nbformat": 4,
 "nbformat_minor": 5
}
