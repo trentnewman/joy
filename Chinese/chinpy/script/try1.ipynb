{
 "cells": [
  {
   "cell_type": "code",
   "execution_count": 8,
   "id": "638835b9",
   "metadata": {},
   "outputs": [],
   "source": [
    "import os\n",
    "import json\n",
    "import matplotlib.pyplot as plt"
   ]
  },
  {
   "cell_type": "code",
   "execution_count": 58,
   "id": "f431ddaa",
   "metadata": {},
   "outputs": [
    {
     "data": {
      "text/plain": [
       "['STRK-Heiti.json']"
      ]
     },
     "execution_count": 58,
     "metadata": {},
     "output_type": "execute_result"
    }
   ],
   "source": [
    "dirrie1 = '../in/'\n",
    "dirrie2 = '../out/'\n",
    "os.listdir(dirrie1)"
   ]
  },
  {
   "cell_type": "code",
   "execution_count": 3,
   "id": "342c5e68",
   "metadata": {},
   "outputs": [],
   "source": [
    "f = open(dirrie1+'STRK-Heiti.json')\n",
    "data = json.load(f)\n",
    "f.close()"
   ]
  },
  {
   "cell_type": "code",
   "execution_count": 4,
   "id": "52a3a194",
   "metadata": {},
   "outputs": [
    {
     "data": {
      "text/plain": [
       "20976"
      ]
     },
     "execution_count": 4,
     "metadata": {},
     "output_type": "execute_result"
    }
   ],
   "source": [
    "len(data)"
   ]
  },
  {
   "cell_type": "code",
   "execution_count": 33,
   "id": "b15184f6",
   "metadata": {},
   "outputs": [],
   "source": [
    "for u in data.keys():\n",
    "    u"
   ]
  },
  {
   "cell_type": "code",
   "execution_count": 34,
   "id": "b23e4894",
   "metadata": {},
   "outputs": [
    {
     "data": {
      "text/plain": [
       "'U+9FEF'"
      ]
     },
     "execution_count": 34,
     "metadata": {},
     "output_type": "execute_result"
    }
   ],
   "source": [
    "u"
   ]
  },
  {
   "cell_type": "code",
   "execution_count": 37,
   "id": "4a033902",
   "metadata": {},
   "outputs": [],
   "source": [
    "u = 'U+4E00'\n",
    "\n",
    "p = 0"
   ]
  },
  {
   "cell_type": "code",
   "execution_count": 38,
   "id": "0cfbedf4",
   "metadata": {},
   "outputs": [
    {
     "name": "stdout",
     "output_type": "stream",
     "text": [
      "0\n",
      "[[0.0, 0.89], [0.89, 0.89], [1.02, 0.97]]\n",
      "1\n",
      "[[0.06, 0.89], [0.255, 0.93], [0.405, 0.93], [0.555, 0.93], [0.705, 0.93], [0.9, 0.97]]\n",
      "2\n",
      "[[0.93, 0.89], [0.735, 0.93], [0.585, 0.93], [0.435, 0.93], [0.285, 0.93], [0.15, 0.93], [-0.03, 0.97]]\n"
     ]
    }
   ],
   "source": [
    "for s in range(len(data[u])):\n",
    "    print(s)\n",
    "    print(data[u][s])"
   ]
  },
  {
   "cell_type": "code",
   "execution_count": 39,
   "id": "90bd79d8",
   "metadata": {},
   "outputs": [
    {
     "name": "stdout",
     "output_type": "stream",
     "text": [
      "0\n",
      "[0.0, 0.89]\n",
      "1\n",
      "[0.89, 0.89]\n",
      "2\n",
      "[1.02, 0.97]\n"
     ]
    }
   ],
   "source": [
    "s = 0\n",
    "for p in range(len(data[u][s])):\n",
    "    print(p)\n",
    "    print(data[u][s][p])"
   ]
  },
  {
   "cell_type": "code",
   "execution_count": 44,
   "id": "db2c5ebc",
   "metadata": {},
   "outputs": [
    {
     "data": {
      "text/plain": [
       "(0.0, 0.89)"
      ]
     },
     "execution_count": 44,
     "metadata": {},
     "output_type": "execute_result"
    }
   ],
   "source": [
    "p = 0\n",
    "x = 0\n",
    "y = 1\n",
    "data[u][s][p][x], data[u][s][p][y]"
   ]
  },
  {
   "cell_type": "code",
   "execution_count": null,
   "id": "af3b601e",
   "metadata": {},
   "outputs": [],
   "source": [
    "# ni, 你, \\u4f60"
   ]
  },
  {
   "cell_type": "code",
   "execution_count": 60,
   "id": "aa557c8e",
   "metadata": {},
   "outputs": [
    {
     "data": {
      "image/png": "[encoded data removed]",
      "text/plain": [
       "<Figure size 432x288 with 1 Axes>"
      ]
     },
     "metadata": {
      "needs_background": "light"
     },
     "output_type": "display_data"
    }
   ],
   "source": [
    "u = 'U+4F60'\n",
    "for s in range(len(data[u])):\n",
    "    xx = []\n",
    "    yy = []\n",
    "    for p in range(len(data[u][s])):\n",
    "        xx.append(data[u][s][p][x])\n",
    "        yy.append(data[u][s][p][y])\n",
    "    plt.plot(xx, yy, c='k')\n",
    "    plt.ylim(1.1, -0.1)\n",
    "    plt.xlim(-0.1, 1.1)\n",
    "    plt.axis('off')\n",
    "    plt.savefig(dirrie2+\"test.svg\")"
   ]
  },
  {
   "cell_type": "code",
   "execution_count": null,
   "id": "38069b55",
   "metadata": {},
   "outputs": [],
   "source": []
  }
 ],
 "metadata": {
  "kernelspec": {
   "display_name": "Python 3",
   "language": "python",
   "name": "python3"
  },
  "language_info": {
   "codemirror_mode": {
    "name": "ipython",
    "version": 3
   },
   "file_extension": ".py",
   "mimetype": "text/x-python",
   "name": "python",
   "nbconvert_exporter": "python",
   "pygments_lexer": "ipython3",
   "version": "3.8.10"
  }
 },
 "nbformat": 4,
 "nbformat_minor": 5
}
