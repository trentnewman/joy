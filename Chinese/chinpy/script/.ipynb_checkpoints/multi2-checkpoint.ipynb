{
 "cells": [
  {
   "cell_type": "code",
   "execution_count": 1,
   "id": "108544d4",
   "metadata": {},
   "outputs": [],
   "source": [
    "import os\n",
    "import json\n",
    "import matplotlib.pyplot as plt"
   ]
  },
  {
   "cell_type": "code",
   "execution_count": 2,
   "id": "2e4b15fe",
   "metadata": {},
   "outputs": [],
   "source": [
    "dirrie1 = '../in/'\n",
    "dirrie2 = '../out/'\n",
    "#os.listdir(dirrie1)"
   ]
  },
  {
   "cell_type": "code",
   "execution_count": 3,
   "id": "a253ccc2",
   "metadata": {},
   "outputs": [],
   "source": [
    "fnt = 'STRK-Heiti.json'"
   ]
  },
  {
   "cell_type": "code",
   "execution_count": 4,
   "id": "1a439257",
   "metadata": {},
   "outputs": [],
   "source": [
    "f = open(dirrie1+fnt)\n",
    "data = json.load(f)\n",
    "f.close()"
   ]
  },
  {
   "cell_type": "code",
   "execution_count": 5,
   "id": "3888260c",
   "metadata": {},
   "outputs": [],
   "source": [
    "txt='我很高兴'"
   ]
  },
  {
   "cell_type": "code",
   "execution_count": 6,
   "id": "c91d0418",
   "metadata": {},
   "outputs": [],
   "source": [
    "txte = txt.encode(\"unicode_escape\")\n",
    "txte = str(txte)\n",
    "txte = txte.replace(\"'\",\"\")\n",
    "txte = txte.replace('b','')\n",
    "crs = txte.split('\\\\\\\\')\n",
    "crs = [c for c in crs if 'u' in c]\n",
    "crs = [c.upper() for c in crs]\n",
    "crs = [c.replace('U','U+') for c in crs]\n",
    "chars = crs"
   ]
  },
  {
   "cell_type": "code",
   "execution_count": 9,
   "id": "6066880b",
   "metadata": {},
   "outputs": [
    {
     "data": {
      "image/png": "[encoded data removed]",
      "text/plain": [
       "<Figure size 216x54 with 4 Axes>"
      ]
     },
     "metadata": {
      "needs_background": "light"
     },
     "output_type": "display_data"
    }
   ],
   "source": [
    "sca = 0.75\n",
    "fig, axs = plt.subplots(1, len(chars), figsize=((len(chars)*sca), sca))\n",
    "for c in range(len(chars)):\n",
    "    un = c\n",
    "    u = chars[c]\n",
    "    for s in range(len(data[u])):\n",
    "        xx = []\n",
    "        yy = []\n",
    "        for p in range(len(data[u][s])):\n",
    "            xx.append(data[u][s][p][0])\n",
    "            yy.append(data[u][s][p][1])\n",
    "        axs[c].plot(xx, yy, c='k', lw=2)\n",
    "        axs[c].set_ylim(1.1,0)\n",
    "        axs[c].axis(\"off\")\n",
    "plt.savefig(dirrie2+\"mult_test2.svg\")\n",
    "plt.show()"
   ]
  },
  {
   "cell_type": "code",
   "execution_count": null,
   "id": "a9eb19b8",
   "metadata": {},
   "outputs": [],
   "source": []
  }
 ],
 "metadata": {
  "kernelspec": {
   "display_name": "Python 3 (ipykernel)",
   "language": "python",
   "name": "python3"
  },
  "language_info": {
   "codemirror_mode": {
    "name": "ipython",
    "version": 3
   },
   "file_extension": ".py",
   "mimetype": "text/x-python",
   "name": "python",
   "nbconvert_exporter": "python",
   "pygments_lexer": "ipython3",
   "version": "3.8.10"
  }
 },
 "nbformat": 4,
 "nbformat_minor": 5
}
